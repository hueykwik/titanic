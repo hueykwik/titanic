{
 "cells": [
  {
   "cell_type": "markdown",
   "metadata": {},
   "source": [
    "## Introduction\n",
    "\n",
    "The Titanic Kaggle challenge is a good introduction to data science. At the time of this writing, the best tutorials seem to be written in R. To help teach myself Python/Pandas, I borrowed heavily from [Bisaria's lasso/ridge implementation in R](https://www.kaggle.io/svf/272035/c7674afa411b198f92611a43fe7d7c75/__results__.html#lasso-and-ridge-models).  \n",
    "\n",
    "In this notebook, we predict survivors in the Titanic dataset using lasso and ridge regression methods. Early exploration of data divulges huge disparity in survival ratio between men and women, we trained separate models for men and women. Many observations had the Age variable missing, so we used Multiple Imputation by Chained Equations to impute missing age.\n",
    "\n",
    "The final result was [...] on the public leaderboard."
   ]
  },
  {
   "cell_type": "markdown",
   "metadata": {},
   "source": [
    "### Imports"
   ]
  },
  {
   "cell_type": "code",
   "execution_count": 936,
   "metadata": {
    "collapsed": false
   },
   "outputs": [],
   "source": [
    "%matplotlib inline\n",
    "\n",
    "import re\n",
    "\n",
    "import pandas as pd\n",
    "import numpy as np\n",
    "import csv as csv\n",
    "import matplotlib\n",
    "import matplotlib.pyplot as plt\n",
    "import matplotlib.ticker as ticker\n",
    "import seaborn as sns\n",
    "from statsmodels.graphics import mosaicplot\n",
    "from sklearn.tree import DecisionTreeRegressor\n",
    "import fancyimpute \n",
    "\n",
    "pd.set_option('precision', 2)\n",
    "matplotlib.style.use('ggplot')"
   ]
  },
  {
   "cell_type": "markdown",
   "metadata": {},
   "source": [
    "### Load Data"
   ]
  },
  {
   "cell_type": "code",
   "execution_count": 937,
   "metadata": {
    "collapsed": false
   },
   "outputs": [],
   "source": [
    "train = pd.read_csv('train.csv', header=0)\n",
    "test = pd.read_csv('test.csv', header=0)"
   ]
  },
  {
   "cell_type": "markdown",
   "metadata": {},
   "source": [
    "## Exploratory Data Analysis\n",
    "Let's take a quick peek into the dataset."
   ]
  },
  {
   "cell_type": "code",
   "execution_count": 938,
   "metadata": {
    "collapsed": false
   },
   "outputs": [
    {
     "data": {
      "text/html": [
       "<div>\n",
       "<table border=\"1\" class=\"dataframe\">\n",
       "  <thead>\n",
       "    <tr style=\"text-align: right;\">\n",
       "      <th></th>\n",
       "      <th>PassengerId</th>\n",
       "      <th>Survived</th>\n",
       "      <th>Pclass</th>\n",
       "      <th>Name</th>\n",
       "      <th>Sex</th>\n",
       "      <th>Age</th>\n",
       "      <th>SibSp</th>\n",
       "      <th>Parch</th>\n",
       "      <th>Ticket</th>\n",
       "      <th>Fare</th>\n",
       "      <th>Cabin</th>\n",
       "      <th>Embarked</th>\n",
       "    </tr>\n",
       "  </thead>\n",
       "  <tbody>\n",
       "    <tr>\n",
       "      <th>0</th>\n",
       "      <td>1</td>\n",
       "      <td>0</td>\n",
       "      <td>3</td>\n",
       "      <td>Braund, Mr. Owen Harris</td>\n",
       "      <td>male</td>\n",
       "      <td>22.0</td>\n",
       "      <td>1</td>\n",
       "      <td>0</td>\n",
       "      <td>A/5 21171</td>\n",
       "      <td>7.25</td>\n",
       "      <td>NaN</td>\n",
       "      <td>S</td>\n",
       "    </tr>\n",
       "    <tr>\n",
       "      <th>1</th>\n",
       "      <td>2</td>\n",
       "      <td>1</td>\n",
       "      <td>1</td>\n",
       "      <td>Cumings, Mrs. John Bradley (Florence Briggs Th...</td>\n",
       "      <td>female</td>\n",
       "      <td>38.0</td>\n",
       "      <td>1</td>\n",
       "      <td>0</td>\n",
       "      <td>PC 17599</td>\n",
       "      <td>71.28</td>\n",
       "      <td>C85</td>\n",
       "      <td>C</td>\n",
       "    </tr>\n",
       "    <tr>\n",
       "      <th>2</th>\n",
       "      <td>3</td>\n",
       "      <td>1</td>\n",
       "      <td>3</td>\n",
       "      <td>Heikkinen, Miss. Laina</td>\n",
       "      <td>female</td>\n",
       "      <td>26.0</td>\n",
       "      <td>0</td>\n",
       "      <td>0</td>\n",
       "      <td>STON/O2. 3101282</td>\n",
       "      <td>7.92</td>\n",
       "      <td>NaN</td>\n",
       "      <td>S</td>\n",
       "    </tr>\n",
       "    <tr>\n",
       "      <th>3</th>\n",
       "      <td>4</td>\n",
       "      <td>1</td>\n",
       "      <td>1</td>\n",
       "      <td>Futrelle, Mrs. Jacques Heath (Lily May Peel)</td>\n",
       "      <td>female</td>\n",
       "      <td>35.0</td>\n",
       "      <td>1</td>\n",
       "      <td>0</td>\n",
       "      <td>113803</td>\n",
       "      <td>53.10</td>\n",
       "      <td>C123</td>\n",
       "      <td>S</td>\n",
       "    </tr>\n",
       "    <tr>\n",
       "      <th>4</th>\n",
       "      <td>5</td>\n",
       "      <td>0</td>\n",
       "      <td>3</td>\n",
       "      <td>Allen, Mr. William Henry</td>\n",
       "      <td>male</td>\n",
       "      <td>35.0</td>\n",
       "      <td>0</td>\n",
       "      <td>0</td>\n",
       "      <td>373450</td>\n",
       "      <td>8.05</td>\n",
       "      <td>NaN</td>\n",
       "      <td>S</td>\n",
       "    </tr>\n",
       "  </tbody>\n",
       "</table>\n",
       "</div>"
      ],
      "text/plain": [
       "   PassengerId  Survived  Pclass  \\\n",
       "0            1         0       3   \n",
       "1            2         1       1   \n",
       "2            3         1       3   \n",
       "3            4         1       1   \n",
       "4            5         0       3   \n",
       "\n",
       "                                                Name     Sex   Age  SibSp  \\\n",
       "0                            Braund, Mr. Owen Harris    male  22.0      1   \n",
       "1  Cumings, Mrs. John Bradley (Florence Briggs Th...  female  38.0      1   \n",
       "2                             Heikkinen, Miss. Laina  female  26.0      0   \n",
       "3       Futrelle, Mrs. Jacques Heath (Lily May Peel)  female  35.0      1   \n",
       "4                           Allen, Mr. William Henry    male  35.0      0   \n",
       "\n",
       "   Parch            Ticket   Fare Cabin Embarked  \n",
       "0      0         A/5 21171   7.25   NaN        S  \n",
       "1      0          PC 17599  71.28   C85        C  \n",
       "2      0  STON/O2. 3101282   7.92   NaN        S  \n",
       "3      0            113803  53.10  C123        S  \n",
       "4      0            373450   8.05   NaN        S  "
      ]
     },
     "execution_count": 938,
     "metadata": {},
     "output_type": "execute_result"
    }
   ],
   "source": [
    "train.head()"
   ]
  },
  {
   "cell_type": "code",
   "execution_count": 939,
   "metadata": {
    "collapsed": false
   },
   "outputs": [
    {
     "name": "stderr",
     "output_type": "stream",
     "text": [
      "/Users/hkwik/anaconda/envs/py35/lib/python3.5/site-packages/numpy/lib/function_base.py:3834: RuntimeWarning: Invalid value encountered in percentile\n",
      "  RuntimeWarning)\n"
     ]
    },
    {
     "data": {
      "text/html": [
       "<div>\n",
       "<table border=\"1\" class=\"dataframe\">\n",
       "  <thead>\n",
       "    <tr style=\"text-align: right;\">\n",
       "      <th></th>\n",
       "      <th>PassengerId</th>\n",
       "      <th>Survived</th>\n",
       "      <th>Pclass</th>\n",
       "      <th>Age</th>\n",
       "      <th>SibSp</th>\n",
       "      <th>Parch</th>\n",
       "      <th>Fare</th>\n",
       "    </tr>\n",
       "  </thead>\n",
       "  <tbody>\n",
       "    <tr>\n",
       "      <th>count</th>\n",
       "      <td>891.00</td>\n",
       "      <td>891.00</td>\n",
       "      <td>891.00</td>\n",
       "      <td>714.00</td>\n",
       "      <td>891.00</td>\n",
       "      <td>891.00</td>\n",
       "      <td>891.00</td>\n",
       "    </tr>\n",
       "    <tr>\n",
       "      <th>mean</th>\n",
       "      <td>446.00</td>\n",
       "      <td>0.38</td>\n",
       "      <td>2.31</td>\n",
       "      <td>29.70</td>\n",
       "      <td>0.52</td>\n",
       "      <td>0.38</td>\n",
       "      <td>32.20</td>\n",
       "    </tr>\n",
       "    <tr>\n",
       "      <th>std</th>\n",
       "      <td>257.35</td>\n",
       "      <td>0.49</td>\n",
       "      <td>0.84</td>\n",
       "      <td>14.53</td>\n",
       "      <td>1.10</td>\n",
       "      <td>0.81</td>\n",
       "      <td>49.69</td>\n",
       "    </tr>\n",
       "    <tr>\n",
       "      <th>min</th>\n",
       "      <td>1.00</td>\n",
       "      <td>0.00</td>\n",
       "      <td>1.00</td>\n",
       "      <td>0.42</td>\n",
       "      <td>0.00</td>\n",
       "      <td>0.00</td>\n",
       "      <td>0.00</td>\n",
       "    </tr>\n",
       "    <tr>\n",
       "      <th>25%</th>\n",
       "      <td>223.50</td>\n",
       "      <td>0.00</td>\n",
       "      <td>2.00</td>\n",
       "      <td>NaN</td>\n",
       "      <td>0.00</td>\n",
       "      <td>0.00</td>\n",
       "      <td>7.91</td>\n",
       "    </tr>\n",
       "    <tr>\n",
       "      <th>50%</th>\n",
       "      <td>446.00</td>\n",
       "      <td>0.00</td>\n",
       "      <td>3.00</td>\n",
       "      <td>NaN</td>\n",
       "      <td>0.00</td>\n",
       "      <td>0.00</td>\n",
       "      <td>14.45</td>\n",
       "    </tr>\n",
       "    <tr>\n",
       "      <th>75%</th>\n",
       "      <td>668.50</td>\n",
       "      <td>1.00</td>\n",
       "      <td>3.00</td>\n",
       "      <td>NaN</td>\n",
       "      <td>1.00</td>\n",
       "      <td>0.00</td>\n",
       "      <td>31.00</td>\n",
       "    </tr>\n",
       "    <tr>\n",
       "      <th>max</th>\n",
       "      <td>891.00</td>\n",
       "      <td>1.00</td>\n",
       "      <td>3.00</td>\n",
       "      <td>80.00</td>\n",
       "      <td>8.00</td>\n",
       "      <td>6.00</td>\n",
       "      <td>512.33</td>\n",
       "    </tr>\n",
       "  </tbody>\n",
       "</table>\n",
       "</div>"
      ],
      "text/plain": [
       "       PassengerId  Survived  Pclass     Age   SibSp   Parch    Fare\n",
       "count       891.00    891.00  891.00  714.00  891.00  891.00  891.00\n",
       "mean        446.00      0.38    2.31   29.70    0.52    0.38   32.20\n",
       "std         257.35      0.49    0.84   14.53    1.10    0.81   49.69\n",
       "min           1.00      0.00    1.00    0.42    0.00    0.00    0.00\n",
       "25%         223.50      0.00    2.00     NaN    0.00    0.00    7.91\n",
       "50%         446.00      0.00    3.00     NaN    0.00    0.00   14.45\n",
       "75%         668.50      1.00    3.00     NaN    1.00    0.00   31.00\n",
       "max         891.00      1.00    3.00   80.00    8.00    6.00  512.33"
      ]
     },
     "execution_count": 939,
     "metadata": {},
     "output_type": "execute_result"
    }
   ],
   "source": [
    "train.describe()"
   ]
  },
  {
   "cell_type": "markdown",
   "metadata": {
    "collapsed": true
   },
   "source": [
    "Frequency table of Survived vs. Sex:"
   ]
  },
  {
   "cell_type": "code",
   "execution_count": 940,
   "metadata": {
    "collapsed": false
   },
   "outputs": [
    {
     "data": {
      "text/html": [
       "<div>\n",
       "<table border=\"1\" class=\"dataframe\">\n",
       "  <thead>\n",
       "    <tr style=\"text-align: right;\">\n",
       "      <th>Sex</th>\n",
       "      <th>female</th>\n",
       "      <th>male</th>\n",
       "    </tr>\n",
       "    <tr>\n",
       "      <th>Survived</th>\n",
       "      <th></th>\n",
       "      <th></th>\n",
       "    </tr>\n",
       "  </thead>\n",
       "  <tbody>\n",
       "    <tr>\n",
       "      <th>0</th>\n",
       "      <td>81</td>\n",
       "      <td>468</td>\n",
       "    </tr>\n",
       "    <tr>\n",
       "      <th>1</th>\n",
       "      <td>233</td>\n",
       "      <td>109</td>\n",
       "    </tr>\n",
       "  </tbody>\n",
       "</table>\n",
       "</div>"
      ],
      "text/plain": [
       "Sex       female  male\n",
       "Survived              \n",
       "0             81   468\n",
       "1            233   109"
      ]
     },
     "execution_count": 940,
     "metadata": {},
     "output_type": "execute_result"
    }
   ],
   "source": [
    "pd.crosstab(train.Survived, train.Sex)"
   ]
  },
  {
   "cell_type": "code",
   "execution_count": 941,
   "metadata": {
    "collapsed": false
   },
   "outputs": [
    {
     "data": {
      "text/html": [
       "<div>\n",
       "<table border=\"1\" class=\"dataframe\">\n",
       "  <thead>\n",
       "    <tr style=\"text-align: right;\">\n",
       "      <th>Sex</th>\n",
       "      <th>female</th>\n",
       "      <th>male</th>\n",
       "    </tr>\n",
       "    <tr>\n",
       "      <th>Survived</th>\n",
       "      <th></th>\n",
       "      <th></th>\n",
       "    </tr>\n",
       "  </thead>\n",
       "  <tbody>\n",
       "    <tr>\n",
       "      <th>0</th>\n",
       "      <td>0.09</td>\n",
       "      <td>0.53</td>\n",
       "    </tr>\n",
       "    <tr>\n",
       "      <th>1</th>\n",
       "      <td>0.26</td>\n",
       "      <td>0.12</td>\n",
       "    </tr>\n",
       "  </tbody>\n",
       "</table>\n",
       "</div>"
      ],
      "text/plain": [
       "Sex       female  male\n",
       "Survived              \n",
       "0           0.09  0.53\n",
       "1           0.26  0.12"
      ]
     },
     "execution_count": 941,
     "metadata": {},
     "output_type": "execute_result"
    }
   ],
   "source": [
    "pd.crosstab(train.Survived, train.Sex, normalize=True)"
   ]
  },
  {
   "cell_type": "markdown",
   "metadata": {},
   "source": [
    "We see 891 passeengers in the training data, comprising of 314 female and 577 male passengers, out of which 233 females and 109 males survived the disaster. The dataset provides information about each passenger's name, age, gender, port of embarkation, which cabin they booked, their ticket number and fare they paid along with the number of family members they were traveling with. Some of the data like Age and Cabin have a fair amount of missing values, which we'll ignore in our initial exploration of the data."
   ]
  },
  {
   "cell_type": "markdown",
   "metadata": {},
   "source": [
    "### Did age influence survival?\n",
    "Let's look at a scatterplot of the ages of each passenger. This shows that while most of the casualties were male, those below the age of 15 seemed to have a similar survival rate as females within that age group. Females 50 and older seem to have a better survival rate, whereas males 50 and older seem to be worse off than their middle-aged male counterparts. \n",
    "\n",
    "We'll use this information when we create new features based on age. "
   ]
  },
  {
   "cell_type": "code",
   "execution_count": 942,
   "metadata": {
    "collapsed": false
   },
   "outputs": [
    {
     "data": {
      "image/png": "[encoded data removed]",
      "text/plain": [
       "<matplotlib.figure.Figure at 0x11df85898>"
      ]
     },
     "metadata": {},
     "output_type": "display_data"
    }
   ],
   "source": [
    "g = sns.factorplot(x='Age', y='PassengerId', hue='Survived', col='Sex', kind='strip', data=train);\n",
    "ax = plt.gca()\n",
    "ax.xaxis.set_major_formatter(ticker.FormatStrFormatter('%d'))\n",
    "ax.xaxis.set_major_locator(ticker.MultipleLocator(base=20))\n",
    "plt.show()"
   ]
  },
  {
   "cell_type": "markdown",
   "metadata": {},
   "source": [
    "### Is survival related to a passenger's class and/or port of embarkation?\n",
    "Since passengers traveled in different classes, let's check to see if there's any correlation between travel class, where they boarded, and survival."
   ]
  },
  {
   "cell_type": "code",
   "execution_count": 943,
   "metadata": {
    "collapsed": false,
    "scrolled": true
   },
   "outputs": [
    {
     "data": {
      "image/png": "[encoded data removed]",
      "text/plain": [
       "<matplotlib.figure.Figure at 0x121f28438>"
      ]
     },
     "metadata": {},
     "output_type": "display_data"
    }
   ],
   "source": [
    "sns.factorplot(x=\"Embarked\", y=\"PassengerId\", hue=\"Survived\", col=\"Pclass\", kind=\"strip\", data=train);"
   ]
  },
  {
   "cell_type": "markdown",
   "metadata": {},
   "source": [
    "Most of the passengers who perished had embarked from port ‘S’ and were travelling 3rd class."
   ]
  },
  {
   "cell_type": "code",
   "execution_count": 944,
   "metadata": {
    "collapsed": false
   },
   "outputs": [
    {
     "data": {
      "image/png": "[encoded data removed]",
      "text/plain": [
       "<matplotlib.figure.Figure at 0x11ba8ba90>"
      ]
     },
     "metadata": {},
     "output_type": "display_data"
    }
   ],
   "source": [
    "sns.factorplot(x=\"Embarked\", y=\"PassengerId\", hue=\"Survived\", col=\"Sex\", kind=\"strip\", data=train);"
   ]
  },
  {
   "cell_type": "markdown",
   "metadata": {},
   "source": [
    "Looks like most of the unfortunate passengers from port ‘S’ travelling 3rd class were male, while most of the casualties among females also happened among passengers from the port ‘S’."
   ]
  },
  {
   "cell_type": "code",
   "execution_count": 945,
   "metadata": {
    "collapsed": false
   },
   "outputs": [
    {
     "data": {
      "image/png": "[encoded data removed]",
      "text/plain": [
       "<matplotlib.figure.Figure at 0x11d94eeb8>"
      ]
     },
     "metadata": {},
     "output_type": "display_data"
    }
   ],
   "source": [
    "# TODO: Probably kill this, because I'm having trouble making a mosaic that looks useful.\n",
    "# Perhaps ask StackOverflow\n",
    "\n",
    "train.loc[:, 'AgeGt15'] = train['Age'] > 15 \n",
    "train.loc[:, 'WithFamily'] = train['SibSp'] + train['Parch'] > 0\n",
    "\n",
    "mosaicplot.mosaic(train, ['Survived', 'Sex', 'AgeGt15', 'WithFamily'], gap=0.05, statistic = True); \n",
    "\n",
    "# Try labeling to see it this makes it more clear\n",
    "# try changing True False to more descriptive labels\n"
   ]
  },
  {
   "cell_type": "code",
   "execution_count": 946,
   "metadata": {
    "collapsed": false
   },
   "outputs": [
    {
     "data": {
      "image/png": "[encoded data removed]",
      "text/plain": [
       "<matplotlib.figure.Figure at 0x11ba03860>"
      ]
     },
     "metadata": {},
     "output_type": "display_data"
    }
   ],
   "source": [
    "mosaicplot.mosaic(train, ['Survived', 'Sex', 'AgeGt15'], gap = 0.05, statistic = True);"
   ]
  },
  {
   "cell_type": "markdown",
   "metadata": {},
   "source": [
    "Finally, a combined dataframe of training and test data is created, with 'Survived' removed from the train dataset and saved separately. This will be added to the train dataset after further processing of the combined dataset."
   ]
  },
  {
   "cell_type": "code",
   "execution_count": 947,
   "metadata": {
    "collapsed": false
   },
   "outputs": [],
   "source": [
    "train = train.drop(['AgeGt15', 'WithFamily'], axis=1)\n",
    "\n",
    "survived = train['Survived']\n",
    "\n",
    "test['Survived'] = 0\n",
    "\n",
    "all_titanic = train.append(test)"
   ]
  },
  {
   "cell_type": "markdown",
   "metadata": {},
   "source": [
    "## Feature Engineering\n",
    "\n",
    "### Title\n",
    "The names of the passengers include titles, which we can then use to infer social status. Perhaps passengers with higher social status were more likely to surive. We also look at the minimum and maximum age for each title in our dataset, so we can then infer title when we impute the missing ages. "
   ]
  },
  {
   "cell_type": "code",
   "execution_count": 948,
   "metadata": {
    "collapsed": false
   },
   "outputs": [
    {
     "data": {
      "text/html": [
       "<div>\n",
       "<table border=\"1\" class=\"dataframe\">\n",
       "  <thead>\n",
       "    <tr style=\"text-align: right;\">\n",
       "      <th></th>\n",
       "      <th>Title</th>\n",
       "      <th>NumPassengers</th>\n",
       "      <th>AgeMissing</th>\n",
       "      <th>MinAge</th>\n",
       "      <th>MaxAge</th>\n",
       "    </tr>\n",
       "  </thead>\n",
       "  <tbody>\n",
       "    <tr>\n",
       "      <th>0</th>\n",
       "      <td>Mr</td>\n",
       "      <td>757</td>\n",
       "      <td>176</td>\n",
       "      <td>11.00</td>\n",
       "      <td>80.0</td>\n",
       "    </tr>\n",
       "    <tr>\n",
       "      <th>1</th>\n",
       "      <td>Mrs</td>\n",
       "      <td>197</td>\n",
       "      <td>27</td>\n",
       "      <td>14.00</td>\n",
       "      <td>76.0</td>\n",
       "    </tr>\n",
       "    <tr>\n",
       "      <th>2</th>\n",
       "      <td>Miss</td>\n",
       "      <td>260</td>\n",
       "      <td>50</td>\n",
       "      <td>0.17</td>\n",
       "      <td>63.0</td>\n",
       "    </tr>\n",
       "    <tr>\n",
       "      <th>3</th>\n",
       "      <td>Master</td>\n",
       "      <td>61</td>\n",
       "      <td>8</td>\n",
       "      <td>0.33</td>\n",
       "      <td>14.5</td>\n",
       "    </tr>\n",
       "    <tr>\n",
       "      <th>4</th>\n",
       "      <td>Don</td>\n",
       "      <td>1</td>\n",
       "      <td>0</td>\n",
       "      <td>40.00</td>\n",
       "      <td>40.0</td>\n",
       "    </tr>\n",
       "    <tr>\n",
       "      <th>5</th>\n",
       "      <td>Rev</td>\n",
       "      <td>8</td>\n",
       "      <td>0</td>\n",
       "      <td>27.00</td>\n",
       "      <td>57.0</td>\n",
       "    </tr>\n",
       "    <tr>\n",
       "      <th>6</th>\n",
       "      <td>Dr</td>\n",
       "      <td>8</td>\n",
       "      <td>1</td>\n",
       "      <td>23.00</td>\n",
       "      <td>54.0</td>\n",
       "    </tr>\n",
       "    <tr>\n",
       "      <th>7</th>\n",
       "      <td>Mme</td>\n",
       "      <td>1</td>\n",
       "      <td>0</td>\n",
       "      <td>24.00</td>\n",
       "      <td>24.0</td>\n",
       "    </tr>\n",
       "    <tr>\n",
       "      <th>8</th>\n",
       "      <td>Ms</td>\n",
       "      <td>2</td>\n",
       "      <td>1</td>\n",
       "      <td>28.00</td>\n",
       "      <td>28.0</td>\n",
       "    </tr>\n",
       "    <tr>\n",
       "      <th>9</th>\n",
       "      <td>Major</td>\n",
       "      <td>2</td>\n",
       "      <td>0</td>\n",
       "      <td>45.00</td>\n",
       "      <td>52.0</td>\n",
       "    </tr>\n",
       "    <tr>\n",
       "      <th>10</th>\n",
       "      <td>Lady</td>\n",
       "      <td>1</td>\n",
       "      <td>0</td>\n",
       "      <td>48.00</td>\n",
       "      <td>48.0</td>\n",
       "    </tr>\n",
       "    <tr>\n",
       "      <th>11</th>\n",
       "      <td>Sir</td>\n",
       "      <td>1</td>\n",
       "      <td>0</td>\n",
       "      <td>49.00</td>\n",
       "      <td>49.0</td>\n",
       "    </tr>\n",
       "    <tr>\n",
       "      <th>12</th>\n",
       "      <td>Mlle</td>\n",
       "      <td>2</td>\n",
       "      <td>0</td>\n",
       "      <td>24.00</td>\n",
       "      <td>24.0</td>\n",
       "    </tr>\n",
       "    <tr>\n",
       "      <th>13</th>\n",
       "      <td>Col</td>\n",
       "      <td>4</td>\n",
       "      <td>0</td>\n",
       "      <td>47.00</td>\n",
       "      <td>60.0</td>\n",
       "    </tr>\n",
       "    <tr>\n",
       "      <th>14</th>\n",
       "      <td>Capt</td>\n",
       "      <td>1</td>\n",
       "      <td>0</td>\n",
       "      <td>70.00</td>\n",
       "      <td>70.0</td>\n",
       "    </tr>\n",
       "    <tr>\n",
       "      <th>15</th>\n",
       "      <td>the Countess</td>\n",
       "      <td>1</td>\n",
       "      <td>0</td>\n",
       "      <td>33.00</td>\n",
       "      <td>33.0</td>\n",
       "    </tr>\n",
       "    <tr>\n",
       "      <th>16</th>\n",
       "      <td>Jonkheer</td>\n",
       "      <td>1</td>\n",
       "      <td>0</td>\n",
       "      <td>38.00</td>\n",
       "      <td>38.0</td>\n",
       "    </tr>\n",
       "    <tr>\n",
       "      <th>17</th>\n",
       "      <td>Dona</td>\n",
       "      <td>1</td>\n",
       "      <td>0</td>\n",
       "      <td>39.00</td>\n",
       "      <td>39.0</td>\n",
       "    </tr>\n",
       "  </tbody>\n",
       "</table>\n",
       "</div>"
      ],
      "text/plain": [
       "           Title  NumPassengers  AgeMissing  MinAge  MaxAge\n",
       "0             Mr            757         176   11.00    80.0\n",
       "1            Mrs            197          27   14.00    76.0\n",
       "2           Miss            260          50    0.17    63.0\n",
       "3         Master             61           8    0.33    14.5\n",
       "4            Don              1           0   40.00    40.0\n",
       "5            Rev              8           0   27.00    57.0\n",
       "6             Dr              8           1   23.00    54.0\n",
       "7            Mme              1           0   24.00    24.0\n",
       "8             Ms              2           1   28.00    28.0\n",
       "9          Major              2           0   45.00    52.0\n",
       "10          Lady              1           0   48.00    48.0\n",
       "11           Sir              1           0   49.00    49.0\n",
       "12          Mlle              2           0   24.00    24.0\n",
       "13           Col              4           0   47.00    60.0\n",
       "14          Capt              1           0   70.00    70.0\n",
       "15  the Countess              1           0   33.00    33.0\n",
       "16      Jonkheer              1           0   38.00    38.0\n",
       "17          Dona              1           0   39.00    39.0"
      ]
     },
     "execution_count": 948,
     "metadata": {},
     "output_type": "execute_result"
    }
   ],
   "source": [
    "def create_titles(names):\n",
    "    return [re.split(', |\\. ', name)[1] for name in all_titanic.Name]\n",
    "    \n",
    "def title_dist():\n",
    "    unique_titles = all_titanic['Title'].unique()\n",
    "    n_passengers = [sum(all_titanic['Title'] == title) for title in unique_titles]\n",
    "    age_missing = [sum((all_titanic['Title'] == title) & (pd.isnull(all_titanic['Age']))) for title in unique_titles]\n",
    "    min_age = [min(all_titanic.loc[all_titanic['Title'] == title, 'Age']) for title in unique_titles]\n",
    "    max_age = [max(all_titanic.loc[all_titanic['Title'] == title, 'Age']) for title in unique_titles]\n",
    "\n",
    "    title_dist = pd.DataFrame({'Title': unique_titles, 'NumPassengers': n_passengers, 'AgeMissing': age_missing, 'MinAge': min_age, 'MaxAge': max_age})\n",
    "    title_dist.columns.tolist()\n",
    "\n",
    "    return(title_dist[['Title', 'NumPassengers', 'AgeMissing', 'MinAge', 'MaxAge']])\n",
    "\n",
    "all_titanic['Title'] = create_titles(all_titanic.Name)\n",
    "title_dist()"
   ]
  },
  {
   "cell_type": "markdown",
   "metadata": {},
   "source": [
    "These eighteen categories can be condensed into five categories based on title and age:\n",
    "\n",
    "* Mr: For men older than 14.5 years of age\n",
    "* Master: For boys above less than or equal to 14.5 years of age\n",
    "* Miss: For girls less than or equal to 14.5 years of age\n",
    "* Ms: For women above 14.5 years of age\n",
    "* Mrs: For married women above 14.5 years"
   ]
  },
  {
   "cell_type": "code",
   "execution_count": 949,
   "metadata": {
    "collapsed": false
   },
   "outputs": [],
   "source": [
    "def condense_titles(df):\n",
    "    df.loc[(df['Title'] == 'Mr') & \n",
    "        (df['Age'] <= 14.5) & \n",
    "        (pd.notnull(df['Age'])), 'Title'] = 'Master'\n",
    "\n",
    "    df.loc[(df['Title'] == 'Capt') |\n",
    "            (df['Title'] == 'Col') |\n",
    "            (df['Title'] == 'Don') |\n",
    "            (df['Title'] == 'Major') |\n",
    "            (df['Title'] == 'Rev') |\n",
    "            (df['Title'] == 'Jonkheer') |\n",
    "            (df['Title'] == 'Sir'), 'Title'] = 'Mr'\n",
    "\n",
    "    # None of these women are traveling with family, so they can be\n",
    "    # categorized as single women for this analysis.\n",
    "    df.loc[(df['Title'] == 'Dona') |\n",
    "            (df['Title'] == 'Mlle') |\n",
    "            (df['Title'] == 'Mme'), 'Title'] = 'Ms'\n",
    "\n",
    "    # Categorize Lady and Countess as married women\n",
    "    df.loc[(df['Title'] == 'Lady') | (df['Title'] == 'the Countess'), 'Title'] = 'Mrs'\n",
    "\n",
    "    # Categorize doctors per their sex\n",
    "    df.loc[(df['Title'] == 'Dr') & (df['Sex'] == 'female'), 'Title'] = 'Ms'\n",
    "    df.loc[(df['Title'] == 'Dr') & (df['Sex'] == 'male'), 'Title'] = 'Mr'\n",
    "    \n",
    "    return(df)\n",
    "\n",
    "all_titanic = condense_titles(all_titanic)\n"
   ]
  },
  {
   "cell_type": "code",
   "execution_count": 950,
   "metadata": {
    "collapsed": false
   },
   "outputs": [
    {
     "data": {
      "text/html": [
       "<div>\n",
       "<table border=\"1\" class=\"dataframe\">\n",
       "  <thead>\n",
       "    <tr style=\"text-align: right;\">\n",
       "      <th></th>\n",
       "      <th>Title</th>\n",
       "      <th>NumPassengers</th>\n",
       "      <th>AgeMissing</th>\n",
       "      <th>MinAge</th>\n",
       "      <th>MaxAge</th>\n",
       "    </tr>\n",
       "  </thead>\n",
       "  <tbody>\n",
       "    <tr>\n",
       "      <th>0</th>\n",
       "      <td>Mr</td>\n",
       "      <td>777</td>\n",
       "      <td>177</td>\n",
       "      <td>15.00</td>\n",
       "      <td>80.0</td>\n",
       "    </tr>\n",
       "    <tr>\n",
       "      <th>1</th>\n",
       "      <td>Mrs</td>\n",
       "      <td>199</td>\n",
       "      <td>27</td>\n",
       "      <td>14.00</td>\n",
       "      <td>76.0</td>\n",
       "    </tr>\n",
       "    <tr>\n",
       "      <th>2</th>\n",
       "      <td>Miss</td>\n",
       "      <td>260</td>\n",
       "      <td>50</td>\n",
       "      <td>0.17</td>\n",
       "      <td>63.0</td>\n",
       "    </tr>\n",
       "    <tr>\n",
       "      <th>3</th>\n",
       "      <td>Master</td>\n",
       "      <td>66</td>\n",
       "      <td>8</td>\n",
       "      <td>0.33</td>\n",
       "      <td>14.5</td>\n",
       "    </tr>\n",
       "    <tr>\n",
       "      <th>4</th>\n",
       "      <td>Ms</td>\n",
       "      <td>7</td>\n",
       "      <td>1</td>\n",
       "      <td>24.00</td>\n",
       "      <td>49.0</td>\n",
       "    </tr>\n",
       "  </tbody>\n",
       "</table>\n",
       "</div>"
      ],
      "text/plain": [
       "    Title  NumPassengers  AgeMissing  MinAge  MaxAge\n",
       "0      Mr            777         177   15.00    80.0\n",
       "1     Mrs            199          27   14.00    76.0\n",
       "2    Miss            260          50    0.17    63.0\n",
       "3  Master             66           8    0.33    14.5\n",
       "4      Ms              7           1   24.00    49.0"
      ]
     },
     "execution_count": 950,
     "metadata": {},
     "output_type": "execute_result"
    }
   ],
   "source": [
    "title_dist()"
   ]
  },
  {
   "cell_type": "markdown",
   "metadata": {},
   "source": [
    "### FamilySize\n",
    "FamilySize is based on the number of family members traveling with a passenger."
   ]
  },
  {
   "cell_type": "code",
   "execution_count": 951,
   "metadata": {
    "collapsed": false
   },
   "outputs": [],
   "source": [
    "# Small = True, Big = False\n",
    "all_titanic['FamilySize'] = (all_titanic['SibSp'] + all_titanic['Parch']) <= 3\n",
    "all_titanic['FamilySize'] = all_titanic['FamilySize'].astype(int)"
   ]
  },
  {
   "cell_type": "markdown",
   "metadata": {},
   "source": [
    "### Mother\n",
    "Identify the ladies traveling with their children."
   ]
  },
  {
   "cell_type": "code",
   "execution_count": 952,
   "metadata": {
    "collapsed": false
   },
   "outputs": [],
   "source": [
    "all_titanic['Mother'] = (all_titanic['Title'] == 'Mrs') & (all_titanic['Parch'] > 0)\n",
    "all_titanic['Mother'] = all_titanic['Mother'].astype(int)"
   ]
  },
  {
   "cell_type": "markdown",
   "metadata": {},
   "source": [
    "### Single\n",
    "Identify people traveling solo."
   ]
  },
  {
   "cell_type": "code",
   "execution_count": 953,
   "metadata": {
    "collapsed": true
   },
   "outputs": [],
   "source": [
    "all_titanic['Single'] = all_titanic['SibSp'] + all_titanic['Parch'] + 1 == 1\n",
    "all_titanic['Single'] = all_titanic['Single'].astype(int)"
   ]
  },
  {
   "cell_type": "markdown",
   "metadata": {},
   "source": [
    "### Family Name\n",
    "The family name of each individual can be extracted from their names. "
   ]
  },
  {
   "cell_type": "code",
   "execution_count": 954,
   "metadata": {
    "collapsed": true
   },
   "outputs": [],
   "source": [
    "all_titanic['FamilyName'] = [re.split(', ', name)[0] for name in all_titanic['Name']]"
   ]
  },
  {
   "cell_type": "markdown",
   "metadata": {},
   "source": [
    "Since there are possibly many people sharing the same family name, it's necessary to distinguish family separately."
   ]
  },
  {
   "cell_type": "code",
   "execution_count": 955,
   "metadata": {
    "collapsed": false
   },
   "outputs": [
    {
     "data": {
      "text/html": [
       "<div>\n",
       "<table border=\"1\" class=\"dataframe\">\n",
       "  <thead>\n",
       "    <tr style=\"text-align: right;\">\n",
       "      <th></th>\n",
       "      <th>FamilyName</th>\n",
       "      <th>Ticket</th>\n",
       "    </tr>\n",
       "  </thead>\n",
       "  <tbody>\n",
       "    <tr>\n",
       "      <th>746</th>\n",
       "      <td>Abbott</td>\n",
       "      <td>C.A. 2673</td>\n",
       "    </tr>\n",
       "    <tr>\n",
       "      <th>392</th>\n",
       "      <td>Abbott</td>\n",
       "      <td>C.A. 2673</td>\n",
       "    </tr>\n",
       "    <tr>\n",
       "      <th>279</th>\n",
       "      <td>Abbott</td>\n",
       "      <td>C.A. 2673</td>\n",
       "    </tr>\n",
       "    <tr>\n",
       "      <th>874</th>\n",
       "      <td>Abelson</td>\n",
       "      <td>P/PP 3381</td>\n",
       "    </tr>\n",
       "    <tr>\n",
       "      <th>308</th>\n",
       "      <td>Abelson</td>\n",
       "      <td>P/PP 3381</td>\n",
       "    </tr>\n",
       "  </tbody>\n",
       "</table>\n",
       "</div>"
      ],
      "text/plain": [
       "    FamilyName     Ticket\n",
       "746     Abbott  C.A. 2673\n",
       "392     Abbott  C.A. 2673\n",
       "279     Abbott  C.A. 2673\n",
       "874    Abelson  P/PP 3381\n",
       "308    Abelson  P/PP 3381"
      ]
     },
     "execution_count": 955,
     "metadata": {},
     "output_type": "execute_result"
    }
   ],
   "source": [
    "family_ticket = all_titanic.loc[all_titanic['Single'] == 0, ['FamilyName', 'Ticket']]\n",
    "family_ticket = family_ticket.sort_values('FamilyName')\n",
    "family_ticket.head()"
   ]
  },
  {
   "cell_type": "markdown",
   "metadata": {},
   "source": [
    "Barring few exceptions, in general, a family shared the same ticket number. This can be a good way of identifying families. Here, we extract the last three digits of the ticket and attach it to the family name, thereby creating unique family names per family."
   ]
  },
  {
   "cell_type": "code",
   "execution_count": 956,
   "metadata": {
    "collapsed": false
   },
   "outputs": [],
   "source": [
    "last_digits = [ticket[-3:] for ticket in all_titanic['Ticket']]\n",
    "all_titanic['FamilyName'] = all_titanic['FamilyName'] + last_digits"
   ]
  },
  {
   "cell_type": "markdown",
   "metadata": {},
   "source": [
    "### Family Survived\n",
    "Based on the exploratory analysis, a feature representing the survival of family can be created. Families traveling together may have tried to escape together and their survival would be closely tied to each other."
   ]
  },
  {
   "cell_type": "code",
   "execution_count": 957,
   "metadata": {
    "collapsed": true
   },
   "outputs": [],
   "source": [
    "all_titanic['FamilySurvived'] = 0\n",
    "\n",
    "# DataFrame of all passengers with family\n",
    "families = all_titanic.loc[all_titanic['Parch'] + all_titanic['SibSp'] > 0, ]\n",
    "\n",
    "# Group families by their family name and number of survivals in the family\n",
    "by_family_name = families.groupby(['FamilyName'])\n",
    "family_name_survived = by_family_name['Survived'].sum()"
   ]
  },
  {
   "cell_type": "code",
   "execution_count": 958,
   "metadata": {
    "collapsed": false
   },
   "outputs": [],
   "source": [
    "# Family is considered to have survived if at least one member survived\n",
    "family_name_survived = family_name_survived[family_name_survived > 0]\n",
    "survived_names = family_name_survived.index.values\n",
    "all_titanic.loc[all_titanic['FamilyName'].isin(survived_names), 'FamilySurvived'] = 1\n"
   ]
  },
  {
   "cell_type": "markdown",
   "metadata": {},
   "source": [
    "### AgeClass\n",
    "We can categorize Age into four classes:\n",
    "* Class 1: 10 and below\n",
    "* Class 2: Above 10 and less than equal to 20\n",
    "* Class 3: Above 20 and less than equal to 35\n",
    "* Class 4: Above 35\n",
    "\n",
    "Since Age is missing for many observations, there will be some data missing here too, which can be calculated after imputing Age."
   ]
  },
  {
   "cell_type": "code",
   "execution_count": 959,
   "metadata": {
    "collapsed": false
   },
   "outputs": [],
   "source": [
    "all_titanic['AgeClass'] = 0\n",
    "all_titanic.loc[all_titanic['Age'] <= 10, 'AgeClass'] = 1\n",
    "all_titanic.loc[(all_titanic['Age'] > 10) & (all_titanic['Age'] <= 20), 'AgeClass'] = 2\n",
    "all_titanic.loc[(all_titanic['Age'] > 20) & (all_titanic['Age'] <= 35), 'AgeClass'] = 3\n",
    "all_titanic.loc[all_titanic['Age'] >= 35, 'AgeClass'] = 4"
   ]
  },
  {
   "cell_type": "markdown",
   "metadata": {},
   "source": [
    "## Imputing missing data\n",
    "Let's find out which columns have missing data:"
   ]
  },
  {
   "cell_type": "code",
   "execution_count": 960,
   "metadata": {
    "collapsed": false
   },
   "outputs": [
    {
     "data": {
      "text/plain": [
       "Age                263\n",
       "Cabin             1014\n",
       "Embarked             2\n",
       "Fare                 1\n",
       "Parch                0\n",
       "Pclass               0\n",
       "Sex                  0\n",
       "SibSp                0\n",
       "Title                0\n",
       "FamilySize           0\n",
       "Mother               0\n",
       "Single               0\n",
       "FamilyName           0\n",
       "FamilySurvived       0\n",
       "dtype: int64"
      ]
     },
     "execution_count": 960,
     "metadata": {},
     "output_type": "execute_result"
    }
   ],
   "source": [
    "cols = [col for col in all_titanic.columns if col not in ['Survived', 'Name', 'PassengerId', 'Ticket', 'AgeClass']]\n",
    "all_titanic[cols].isnull().sum()"
   ]
  },
  {
   "cell_type": "markdown",
   "metadata": {},
   "source": [
    "There are 263 observations where Age is missing, 1014 observations have Cabin missing, 2 observations with Embarked missing, and 1 observation with Fare missing.\n",
    "\n",
    "### Embarked \n",
    "Two of the passengers have information about their port of embarkation missing. These two observations belong two female passengers who survived and were traveling first class in a B cabin. Since most of the females in first class who survived embarked either from Southampton or Cherbourg and the mode of Embarked is S, we'll assume they embarked at Southampton."
   ]
  },
  {
   "cell_type": "code",
   "execution_count": 961,
   "metadata": {
    "collapsed": false
   },
   "outputs": [],
   "source": [
    "all_titanic.loc[pd.isnull(all_titanic['Embarked']), 'Embarked'] = 'S'"
   ]
  },
  {
   "cell_type": "markdown",
   "metadata": {},
   "source": [
    "### Fare\n",
    "We'll use a decision tree to predict the one missing fare observation, using other features as predictors.\n",
    "\n",
    "Before doing this, we need to create dummies for our categorical variables."
   ]
  },
  {
   "cell_type": "code",
   "execution_count": null,
   "metadata": {
    "collapsed": false
   },
   "outputs": [],
   "source": [
    "ports = pd.get_dummies(all_titanic['Embarked'])\n",
    "titles = pd.get_dummies(all_titanic['Title'])\n",
    "\n",
    "all_titanic = pd.concat([all_titanic, ports, titles], axis = 1)\n",
    "all_titanic = all_titanic.drop(['Embarked', 'Title'], axis = 1)"
   ]
  },
  {
   "cell_type": "markdown",
   "metadata": {},
   "source": [
    "# NOTE: IF THIS AFFECTS THE ACTUAL RESULTS, THEN TRY DOING SOMETHING SMARTER WITH THE MISSING AGE."
   ]
  },
  {
   "cell_type": "code",
   "execution_count": null,
   "metadata": {
    "collapsed": false
   },
   "outputs": [],
   "source": [
    "features = ['Pclass', 'SibSp', 'Parch', 'C', 'Q', 'S', 'Master', 'Miss', 'Mr', 'Mrs', 'Ms']\n",
    "\n",
    "all_fares = all_titanic.loc[pd.notnull(all_titanic['Fare'])]\n",
    "missing_fare = all_titanic.loc[pd.isnull(all_titanic['Fare'])]\n",
    "\n",
    "# # Impute Age using mean\n",
    "# # Create an imputer\n",
    "# imp = Imputer(missing_values='NaN', strategy='mean', axis=1)\n",
    "# # Fit and transform it on the Ages\n",
    "# new_ages = imp.fit_transform(all_fares['Age'])\n",
    "\n",
    "# # Set the Age column to this new array\n",
    "# all_fares['Age'] = new_ages.transpose()\n",
    "# all_fares['Age']\n",
    "\n",
    "#Create decision tree Regressor\n",
    "clf = DecisionTreeRegressor(random_state=0)\n",
    "\n",
    "X = all_fares[features]\n",
    "y = all_fares['Fare']\n",
    "clf.fit(X, y)\n",
    "\n",
    "# # Predict fare based on this\n",
    "#missing_fare[features]\n",
    "all_titanic.loc[pd.isnull(all_titanic['Fare']), 'Fare'] = clf.predict(missing_fare[features])"
   ]
  },
  {
   "cell_type": "code",
   "execution_count": null,
   "metadata": {
    "collapsed": false
   },
   "outputs": [],
   "source": []
  },
  {
   "cell_type": "markdown",
   "metadata": {},
   "source": [
    "### Age\n",
    "We noticed earlier that 263 passengers have missing ages. We will use multiple chaining"
   ]
  },
  {
   "cell_type": "code",
   "execution_count": null,
   "metadata": {
    "collapsed": false
   },
   "outputs": [
    {
     "data": {
      "text/html": [
       "<div>\n",
       "<table border=\"1\" class=\"dataframe\">\n",
       "  <thead>\n",
       "    <tr style=\"text-align: right;\">\n",
       "      <th>Pclass</th>\n",
       "      <th>1</th>\n",
       "      <th>2</th>\n",
       "      <th>3</th>\n",
       "    </tr>\n",
       "    <tr>\n",
       "      <th>Age</th>\n",
       "      <th></th>\n",
       "      <th></th>\n",
       "      <th></th>\n",
       "    </tr>\n",
       "  </thead>\n",
       "  <tbody>\n",
       "    <tr>\n",
       "      <th>False</th>\n",
       "      <td>284</td>\n",
       "      <td>261</td>\n",
       "      <td>501</td>\n",
       "    </tr>\n",
       "    <tr>\n",
       "      <th>True</th>\n",
       "      <td>39</td>\n",
       "      <td>16</td>\n",
       "      <td>208</td>\n",
       "    </tr>\n",
       "  </tbody>\n",
       "</table>\n",
       "</div>"
      ],
      "text/plain": [
       "Pclass    1    2    3\n",
       "Age                  \n",
       "False   284  261  501\n",
       "True     39   16  208"
      ]
     },
     "execution_count": 964,
     "metadata": {},
     "output_type": "execute_result"
    }
   ],
   "source": [
    "pd.crosstab(pd.isnull(all_titanic['Age']), all_titanic.Pclass)"
   ]
  },
  {
   "cell_type": "code",
   "execution_count": null,
   "metadata": {
    "collapsed": false
   },
   "outputs": [],
   "source": [
    "impute_missing = all_titanic.drop(['Survived', 'Name', 'PassengerId', 'Ticket', 'AgeClass', 'Cabin', 'FamilyName'], axis=1)\n",
    "\n",
    "impute_missing['Sex'] = impute_missing['Sex'].map( {'female': 0, 'male': 1} ).astype(int)\n",
    "filled_soft = fancyimpute.MICE(n_imputations=20, impute_type='pmm').complete(np.array(impute_missing))"
   ]
  },
  {
   "cell_type": "markdown",
   "metadata": {},
   "source": [
    "Let's compare the original distribution of ages vs. the imputed ages:"
   ]
  },
  {
   "cell_type": "code",
   "execution_count": null,
   "metadata": {
    "collapsed": false
   },
   "outputs": [],
   "source": [
    "imputed_ages = pd.DataFrame(filled_soft, columns = list(impute_missing))\n",
    "sns.kdeplot(imputed_ages['Age'], label = 'imputed')\n",
    "ax = sns.kdeplot(all_titanic['Age'], label = 'original')\n",
    "ax.set(xlabel='Age', ylabel='Density');"
   ]
  },
  {
   "cell_type": "markdown",
   "metadata": {},
   "source": [
    "The imputed data seems to be acceptable, so we'll use it for filling in the missing values in AgeClass and Title."
   ]
  },
  {
   "cell_type": "code",
   "execution_count": null,
   "metadata": {
    "collapsed": false
   },
   "outputs": [],
   "source": [
    "all_titanic['Age'] = imputed_ages['Age']\n",
    "\n",
    "# Fill in missing age class\n",
    "all_titanic.loc[all_titanic['Age'] <= 10, 'AgeClass'] = 1\n",
    "all_titanic.loc[(all_titanic['Age'] > 10) & (all_titanic['Age'] <= 20), 'AgeClass'] = 2\n",
    "all_titanic.loc[(all_titanic['Age'] > 20) & (all_titanic['Age'] <= 35), 'AgeClass'] = 3\n",
    "all_titanic.loc[all_titanic['Age'] >= 35, 'AgeClass'] = 4\n",
    "\n",
    "# Fill in missing titles\n",
    "\n",
    "# Drop the dummies title columns\n",
    "all_titanic = all_titanic.drop(list(titles), axis = 1)\n",
    "\n",
    "# Redo the titles\n",
    "all_titanic['Title'] = create_titles(all_titanic['Name'])\n",
    "all_titanic = condense_titles(all_titanic)\n",
    "\n",
    "# TODO(hkwik): May need to revisit this based on the crosstab, Mrs. looks problematic\n",
    "# Another alternative may be to try different parameters on imputation. We'll see what the results look like\n",
    "print(pd.crosstab(all_titanic['Title'], all_titanic['Age'] > 14.5))\n",
    "all_titanic.loc[(all_titanic['Title'] == 'Master') & (all_titanic['Age'] > 14.5), 'Title'] = 'Mr'\n",
    "all_titanic.loc[(all_titanic['Title'] == 'Miss') & (all_titanic['Age'] > 14.5), 'Title'] = 'Ms'\n",
    "all_titanic.loc[(all_titanic['Title'] == 'Mr') & (all_titanic['Age'] <= 14.5), 'Title'] = 'Master'\n",
    "print(pd.crosstab(all_titanic['Title'], all_titanic['Age'] > 14.5))\n",
    "\n",
    "# Drop the title column and re-add the dummies\n",
    "titles = pd.get_dummies(all_titanic['Title'])\n",
    "all_titanic = pd.concat([all_titanic, titles], axis = 1)\n",
    "all_titanic = all_titanic.drop(['Title'], axis = 1)"
   ]
  },
  {
   "cell_type": "code",
   "execution_count": null,
   "metadata": {
    "collapsed": false
   },
   "outputs": [],
   "source": [
    "\n"
   ]
  },
  {
   "cell_type": "code",
   "execution_count": null,
   "metadata": {
    "collapsed": true
   },
   "outputs": [],
   "source": []
  }
 ],
 "metadata": {
  "anaconda-cloud": {},
  "kernelspec": {
   "display_name": "Python [py35]",
   "language": "python",
   "name": "Python [py35]"
  },
  "language_info": {
   "codemirror_mode": {
    "name": "ipython",
    "version": 3
   },
   "file_extension": ".py",
   "mimetype": "text/x-python",
   "name": "python",
   "nbconvert_exporter": "python",
   "pygments_lexer": "ipython3",
   "version": "3.5.2"
  }
 },
 "nbformat": 4,
 "nbformat_minor": 0
}
