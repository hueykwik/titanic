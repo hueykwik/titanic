{
 "cells": [
  {
   "cell_type": "markdown",
   "metadata": {},
   "source": [
    "## Introduction\n",
    "\n",
    "The Titanic Kaggle challenge is a good introduction to data science. At the time of this writing, the best tutorials seem to be written in R. To help teach myself Python/Pandas, I borrowed heavily from [Bisaria's lasso/ridge implementation in R](https://www.kaggle.io/svf/272035/c7674afa411b198f92611a43fe7d7c75/__results__.html#lasso-and-ridge-models).  \n",
    "\n",
    "In this notebook, we predict survivors in the Titanic dataset using lasso and ridge regression methods. Early exploration of data divulges huge disparity in survival ratio between men and women, we trained separate models for men and women. Many observations had the Age variable missing, so we used Multiple Imputation by Chained Equations to impute missing age.\n",
    "\n",
    "The final result was [score] on the public leaderboard."
   ]
  },
  {
   "cell_type": "markdown",
   "metadata": {},
   "source": [
    "### Imports"
   ]
  },
  {
   "cell_type": "code",
   "execution_count": 3232,
   "metadata": {
    "collapsed": false
   },
   "outputs": [],
   "source": [
    "%matplotlib inline\n",
    "\n",
    "import re\n",
    "import random\n",
    "\n",
    "import pandas as pd\n",
    "import numpy as np\n",
    "import csv as csv\n",
    "import matplotlib\n",
    "import matplotlib.pyplot as plt\n",
    "import matplotlib.ticker as ticker\n",
    "import seaborn as sns\n",
    "from statsmodels.graphics import mosaicplot\n",
    "from sklearn.tree import DecisionTreeRegressor\n",
    "from sklearn import cross_validation\n",
    "from sklearn.linear_model import LogisticRegressionCV\n",
    "from sklearn.metrics import confusion_matrix\n",
    "import fancyimpute \n",
    "\n",
    "random.seed(100)\n",
    "np.random.seed(5)\n",
    "pd.set_option('display.float_format', lambda x: '%.3f' % x)\n",
    "matplotlib.style.use('ggplot')"
   ]
  },
  {
   "cell_type": "markdown",
   "metadata": {},
   "source": [
    "### Load Data"
   ]
  },
  {
   "cell_type": "code",
   "execution_count": 3233,
   "metadata": {
    "collapsed": false
   },
   "outputs": [],
   "source": [
    "train = pd.read_csv('train.csv', header=0)\n",
    "test = pd.read_csv('test.csv', header=0)"
   ]
  },
  {
   "cell_type": "markdown",
   "metadata": {},
   "source": [
    "## Exploratory Data Analysis\n",
    "Let's take a quick peek into the dataset."
   ]
  },
  {
   "cell_type": "code",
   "execution_count": 3234,
   "metadata": {
    "collapsed": false
   },
   "outputs": [
    {
     "data": {
      "text/html": [
       "<div>\n",
       "<table border=\"1\" class=\"dataframe\">\n",
       "  <thead>\n",
       "    <tr style=\"text-align: right;\">\n",
       "      <th></th>\n",
       "      <th>PassengerId</th>\n",
       "      <th>Survived</th>\n",
       "      <th>Pclass</th>\n",
       "      <th>Name</th>\n",
       "      <th>Sex</th>\n",
       "      <th>Age</th>\n",
       "      <th>SibSp</th>\n",
       "      <th>Parch</th>\n",
       "      <th>Ticket</th>\n",
       "      <th>Fare</th>\n",
       "      <th>Cabin</th>\n",
       "      <th>Embarked</th>\n",
       "    </tr>\n",
       "  </thead>\n",
       "  <tbody>\n",
       "    <tr>\n",
       "      <th>0</th>\n",
       "      <td>1</td>\n",
       "      <td>0</td>\n",
       "      <td>3</td>\n",
       "      <td>Braund, Mr. Owen Harris</td>\n",
       "      <td>male</td>\n",
       "      <td>22.000</td>\n",
       "      <td>1</td>\n",
       "      <td>0</td>\n",
       "      <td>A/5 21171</td>\n",
       "      <td>7.250</td>\n",
       "      <td>NaN</td>\n",
       "      <td>S</td>\n",
       "    </tr>\n",
       "    <tr>\n",
       "      <th>1</th>\n",
       "      <td>2</td>\n",
       "      <td>1</td>\n",
       "      <td>1</td>\n",
       "      <td>Cumings, Mrs. John Bradley (Florence Briggs Th...</td>\n",
       "      <td>female</td>\n",
       "      <td>38.000</td>\n",
       "      <td>1</td>\n",
       "      <td>0</td>\n",
       "      <td>PC 17599</td>\n",
       "      <td>71.283</td>\n",
       "      <td>C85</td>\n",
       "      <td>C</td>\n",
       "    </tr>\n",
       "    <tr>\n",
       "      <th>2</th>\n",
       "      <td>3</td>\n",
       "      <td>1</td>\n",
       "      <td>3</td>\n",
       "      <td>Heikkinen, Miss. Laina</td>\n",
       "      <td>female</td>\n",
       "      <td>26.000</td>\n",
       "      <td>0</td>\n",
       "      <td>0</td>\n",
       "      <td>STON/O2. 3101282</td>\n",
       "      <td>7.925</td>\n",
       "      <td>NaN</td>\n",
       "      <td>S</td>\n",
       "    </tr>\n",
       "    <tr>\n",
       "      <th>3</th>\n",
       "      <td>4</td>\n",
       "      <td>1</td>\n",
       "      <td>1</td>\n",
       "      <td>Futrelle, Mrs. Jacques Heath (Lily May Peel)</td>\n",
       "      <td>female</td>\n",
       "      <td>35.000</td>\n",
       "      <td>1</td>\n",
       "      <td>0</td>\n",
       "      <td>113803</td>\n",
       "      <td>53.100</td>\n",
       "      <td>C123</td>\n",
       "      <td>S</td>\n",
       "    </tr>\n",
       "    <tr>\n",
       "      <th>4</th>\n",
       "      <td>5</td>\n",
       "      <td>0</td>\n",
       "      <td>3</td>\n",
       "      <td>Allen, Mr. William Henry</td>\n",
       "      <td>male</td>\n",
       "      <td>35.000</td>\n",
       "      <td>0</td>\n",
       "      <td>0</td>\n",
       "      <td>373450</td>\n",
       "      <td>8.050</td>\n",
       "      <td>NaN</td>\n",
       "      <td>S</td>\n",
       "    </tr>\n",
       "  </tbody>\n",
       "</table>\n",
       "</div>"
      ],
      "text/plain": [
       "   PassengerId  Survived  Pclass  \\\n",
       "0            1         0       3   \n",
       "1            2         1       1   \n",
       "2            3         1       3   \n",
       "3            4         1       1   \n",
       "4            5         0       3   \n",
       "\n",
       "                                                Name     Sex    Age  SibSp  \\\n",
       "0                            Braund, Mr. Owen Harris    male 22.000      1   \n",
       "1  Cumings, Mrs. John Bradley (Florence Briggs Th...  female 38.000      1   \n",
       "2                             Heikkinen, Miss. Laina  female 26.000      0   \n",
       "3       Futrelle, Mrs. Jacques Heath (Lily May Peel)  female 35.000      1   \n",
       "4                           Allen, Mr. William Henry    male 35.000      0   \n",
       "\n",
       "   Parch            Ticket   Fare Cabin Embarked  \n",
       "0      0         A/5 21171  7.250   NaN        S  \n",
       "1      0          PC 17599 71.283   C85        C  \n",
       "2      0  STON/O2. 3101282  7.925   NaN        S  \n",
       "3      0            113803 53.100  C123        S  \n",
       "4      0            373450  8.050   NaN        S  "
      ]
     },
     "execution_count": 3234,
     "metadata": {},
     "output_type": "execute_result"
    }
   ],
   "source": [
    "train.head()"
   ]
  },
  {
   "cell_type": "code",
   "execution_count": 3235,
   "metadata": {
    "collapsed": false
   },
   "outputs": [
    {
     "name": "stderr",
     "output_type": "stream",
     "text": [
      "/Users/hkwik/anaconda/envs/py35/lib/python3.5/site-packages/numpy/lib/function_base.py:3834: RuntimeWarning: Invalid value encountered in percentile\n",
      "  RuntimeWarning)\n"
     ]
    },
    {
     "data": {
      "text/html": [
       "<div>\n",
       "<table border=\"1\" class=\"dataframe\">\n",
       "  <thead>\n",
       "    <tr style=\"text-align: right;\">\n",
       "      <th></th>\n",
       "      <th>PassengerId</th>\n",
       "      <th>Survived</th>\n",
       "      <th>Pclass</th>\n",
       "      <th>Age</th>\n",
       "      <th>SibSp</th>\n",
       "      <th>Parch</th>\n",
       "      <th>Fare</th>\n",
       "    </tr>\n",
       "  </thead>\n",
       "  <tbody>\n",
       "    <tr>\n",
       "      <th>count</th>\n",
       "      <td>891.000</td>\n",
       "      <td>891.000</td>\n",
       "      <td>891.000</td>\n",
       "      <td>714.000</td>\n",
       "      <td>891.000</td>\n",
       "      <td>891.000</td>\n",
       "      <td>891.000</td>\n",
       "    </tr>\n",
       "    <tr>\n",
       "      <th>mean</th>\n",
       "      <td>446.000</td>\n",
       "      <td>0.384</td>\n",
       "      <td>2.309</td>\n",
       "      <td>29.699</td>\n",
       "      <td>0.523</td>\n",
       "      <td>0.382</td>\n",
       "      <td>32.204</td>\n",
       "    </tr>\n",
       "    <tr>\n",
       "      <th>std</th>\n",
       "      <td>257.354</td>\n",
       "      <td>0.487</td>\n",
       "      <td>0.836</td>\n",
       "      <td>14.526</td>\n",
       "      <td>1.103</td>\n",
       "      <td>0.806</td>\n",
       "      <td>49.693</td>\n",
       "    </tr>\n",
       "    <tr>\n",
       "      <th>min</th>\n",
       "      <td>1.000</td>\n",
       "      <td>0.000</td>\n",
       "      <td>1.000</td>\n",
       "      <td>0.420</td>\n",
       "      <td>0.000</td>\n",
       "      <td>0.000</td>\n",
       "      <td>0.000</td>\n",
       "    </tr>\n",
       "    <tr>\n",
       "      <th>25%</th>\n",
       "      <td>223.500</td>\n",
       "      <td>0.000</td>\n",
       "      <td>2.000</td>\n",
       "      <td>nan</td>\n",
       "      <td>0.000</td>\n",
       "      <td>0.000</td>\n",
       "      <td>7.910</td>\n",
       "    </tr>\n",
       "    <tr>\n",
       "      <th>50%</th>\n",
       "      <td>446.000</td>\n",
       "      <td>0.000</td>\n",
       "      <td>3.000</td>\n",
       "      <td>nan</td>\n",
       "      <td>0.000</td>\n",
       "      <td>0.000</td>\n",
       "      <td>14.454</td>\n",
       "    </tr>\n",
       "    <tr>\n",
       "      <th>75%</th>\n",
       "      <td>668.500</td>\n",
       "      <td>1.000</td>\n",
       "      <td>3.000</td>\n",
       "      <td>nan</td>\n",
       "      <td>1.000</td>\n",
       "      <td>0.000</td>\n",
       "      <td>31.000</td>\n",
       "    </tr>\n",
       "    <tr>\n",
       "      <th>max</th>\n",
       "      <td>891.000</td>\n",
       "      <td>1.000</td>\n",
       "      <td>3.000</td>\n",
       "      <td>80.000</td>\n",
       "      <td>8.000</td>\n",
       "      <td>6.000</td>\n",
       "      <td>512.329</td>\n",
       "    </tr>\n",
       "  </tbody>\n",
       "</table>\n",
       "</div>"
      ],
      "text/plain": [
       "       PassengerId  Survived  Pclass     Age   SibSp   Parch    Fare\n",
       "count      891.000   891.000 891.000 714.000 891.000 891.000 891.000\n",
       "mean       446.000     0.384   2.309  29.699   0.523   0.382  32.204\n",
       "std        257.354     0.487   0.836  14.526   1.103   0.806  49.693\n",
       "min          1.000     0.000   1.000   0.420   0.000   0.000   0.000\n",
       "25%        223.500     0.000   2.000     nan   0.000   0.000   7.910\n",
       "50%        446.000     0.000   3.000     nan   0.000   0.000  14.454\n",
       "75%        668.500     1.000   3.000     nan   1.000   0.000  31.000\n",
       "max        891.000     1.000   3.000  80.000   8.000   6.000 512.329"
      ]
     },
     "execution_count": 3235,
     "metadata": {},
     "output_type": "execute_result"
    }
   ],
   "source": [
    "train.describe()"
   ]
  },
  {
   "cell_type": "markdown",
   "metadata": {
    "collapsed": true
   },
   "source": [
    "Frequency table of Survived vs. Sex:"
   ]
  },
  {
   "cell_type": "code",
   "execution_count": 3236,
   "metadata": {
    "collapsed": false
   },
   "outputs": [
    {
     "data": {
      "text/html": [
       "<div>\n",
       "<table border=\"1\" class=\"dataframe\">\n",
       "  <thead>\n",
       "    <tr style=\"text-align: right;\">\n",
       "      <th>Sex</th>\n",
       "      <th>female</th>\n",
       "      <th>male</th>\n",
       "    </tr>\n",
       "    <tr>\n",
       "      <th>Survived</th>\n",
       "      <th></th>\n",
       "      <th></th>\n",
       "    </tr>\n",
       "  </thead>\n",
       "  <tbody>\n",
       "    <tr>\n",
       "      <th>0</th>\n",
       "      <td>81</td>\n",
       "      <td>468</td>\n",
       "    </tr>\n",
       "    <tr>\n",
       "      <th>1</th>\n",
       "      <td>233</td>\n",
       "      <td>109</td>\n",
       "    </tr>\n",
       "  </tbody>\n",
       "</table>\n",
       "</div>"
      ],
      "text/plain": [
       "Sex       female  male\n",
       "Survived              \n",
       "0             81   468\n",
       "1            233   109"
      ]
     },
     "execution_count": 3236,
     "metadata": {},
     "output_type": "execute_result"
    }
   ],
   "source": [
    "pd.crosstab(train.Survived, train.Sex)"
   ]
  },
  {
   "cell_type": "code",
   "execution_count": 3237,
   "metadata": {
    "collapsed": false
   },
   "outputs": [
    {
     "data": {
      "text/html": [
       "<div>\n",
       "<table border=\"1\" class=\"dataframe\">\n",
       "  <thead>\n",
       "    <tr style=\"text-align: right;\">\n",
       "      <th>Sex</th>\n",
       "      <th>female</th>\n",
       "      <th>male</th>\n",
       "    </tr>\n",
       "    <tr>\n",
       "      <th>Survived</th>\n",
       "      <th></th>\n",
       "      <th></th>\n",
       "    </tr>\n",
       "  </thead>\n",
       "  <tbody>\n",
       "    <tr>\n",
       "      <th>0</th>\n",
       "      <td>0.091</td>\n",
       "      <td>0.525</td>\n",
       "    </tr>\n",
       "    <tr>\n",
       "      <th>1</th>\n",
       "      <td>0.262</td>\n",
       "      <td>0.122</td>\n",
       "    </tr>\n",
       "  </tbody>\n",
       "</table>\n",
       "</div>"
      ],
      "text/plain": [
       "Sex       female  male\n",
       "Survived              \n",
       "0          0.091 0.525\n",
       "1          0.262 0.122"
      ]
     },
     "execution_count": 3237,
     "metadata": {},
     "output_type": "execute_result"
    }
   ],
   "source": [
    "pd.crosstab(train.Survived, train.Sex, normalize=True)"
   ]
  },
  {
   "cell_type": "markdown",
   "metadata": {},
   "source": [
    "We see 891 passeengers in the training data, comprising of 314 female and 577 male passengers, out of which 233 females and 109 males survived the disaster. The dataset provides information about each passenger's name, age, gender, port of embarkation, which cabin they booked, their ticket number and fare they paid along with the number of family members they were traveling with. Some of the data like Age and Cabin have a fair amount of missing values, which we'll ignore in our initial exploration of the data."
   ]
  },
  {
   "cell_type": "markdown",
   "metadata": {},
   "source": [
    "### Did age influence survival?\n",
    "Let's look at a scatterplot of the ages of each passenger. This shows that while most of the casualties were male, those below the age of 15 seemed to have a similar survival rate as females within that age group. Females 50 and older seem to have a better survival rate, whereas males 50 and older seem to be worse off than their middle-aged male counterparts. \n",
    "\n",
    "We'll use this information when we create new features based on age. "
   ]
  },
  {
   "cell_type": "code",
   "execution_count": 3238,
   "metadata": {
    "collapsed": false
   },
   "outputs": [
    {
     "data": {
      "image/png": "[encoded data removed]",
      "text/plain": [
       "<matplotlib.figure.Figure at 0x11dfc7f28>"
      ]
     },
     "metadata": {},
     "output_type": "display_data"
    }
   ],
   "source": [
    "g = sns.factorplot(x='Age', y='PassengerId', hue='Survived', col='Sex', kind='strip', data=train);\n",
    "ax = plt.gca()\n",
    "ax.xaxis.set_major_formatter(ticker.FormatStrFormatter('%d'))\n",
    "ax.xaxis.set_major_locator(ticker.MultipleLocator(base=20))\n",
    "plt.show()"
   ]
  },
  {
   "cell_type": "markdown",
   "metadata": {},
   "source": [
    "### Is survival related to a passenger's class and/or port of embarkation?\n",
    "Since passengers traveled in different classes, let's check to see if there's any correlation between travel class, where they boarded, and survival."
   ]
  },
  {
   "cell_type": "code",
   "execution_count": 3239,
   "metadata": {
    "collapsed": false,
    "scrolled": true
   },
   "outputs": [
    {
     "data": {
      "image/png": "[encoded data removed]",
      "text/plain": [
       "<matplotlib.figure.Figure at 0x1252be390>"
      ]
     },
     "metadata": {},
     "output_type": "display_data"
    }
   ],
   "source": [
    "sns.factorplot(x=\"Embarked\", y=\"PassengerId\", hue=\"Survived\", col=\"Pclass\", kind=\"strip\", data=train);"
   ]
  },
  {
   "cell_type": "markdown",
   "metadata": {},
   "source": [
    "Most of the passengers who perished had embarked from port ‘S’ and were travelling 3rd class."
   ]
  },
  {
   "cell_type": "code",
   "execution_count": 3240,
   "metadata": {
    "collapsed": false
   },
   "outputs": [
    {
     "data": {
      "image/png": "[encoded data removed]",
      "text/plain": [
       "<matplotlib.figure.Figure at 0x11d981ef0>"
      ]
     },
     "metadata": {},
     "output_type": "display_data"
    }
   ],
   "source": [
    "sns.factorplot(x=\"Embarked\", y=\"PassengerId\", hue=\"Survived\", col=\"Sex\", kind=\"strip\", data=train);"
   ]
  },
  {
   "cell_type": "markdown",
   "metadata": {},
   "source": [
    "Looks like most of the unfortunate passengers from port ‘S’ travelling 3rd class were male, while most of the casualties among females also happened among passengers from the port ‘S’."
   ]
  },
  {
   "cell_type": "markdown",
   "metadata": {},
   "source": [
    "Finally, a combined dataframe of training and test data is created, with 'Survived' removed from the train dataset and saved separately. This will be added to the train dataset after further processing of the combined dataset."
   ]
  },
  {
   "cell_type": "code",
   "execution_count": 3241,
   "metadata": {
    "collapsed": false
   },
   "outputs": [],
   "source": [
    "survived = train['Survived']\n",
    "\n",
    "test['Survived'] = 0\n",
    "\n",
    "all_titanic = train.append(test, ignore_index=True)"
   ]
  },
  {
   "cell_type": "markdown",
   "metadata": {},
   "source": [
    "## Feature Engineering\n",
    "\n",
    "### Title\n",
    "The names of the passengers include titles, which we can then use to infer social status. Perhaps passengers with higher social status were more likely to surive. We also look at the minimum and maximum age for each title in our dataset, so we can then infer title when we impute the missing ages. "
   ]
  },
  {
   "cell_type": "code",
   "execution_count": 3242,
   "metadata": {
    "collapsed": false
   },
   "outputs": [
    {
     "data": {
      "text/html": [
       "<div>\n",
       "<table border=\"1\" class=\"dataframe\">\n",
       "  <thead>\n",
       "    <tr style=\"text-align: right;\">\n",
       "      <th></th>\n",
       "      <th>Title</th>\n",
       "      <th>NumPassengers</th>\n",
       "      <th>AgeMissing</th>\n",
       "      <th>MinAge</th>\n",
       "      <th>MaxAge</th>\n",
       "    </tr>\n",
       "  </thead>\n",
       "  <tbody>\n",
       "    <tr>\n",
       "      <th>0</th>\n",
       "      <td>Mr</td>\n",
       "      <td>757</td>\n",
       "      <td>176</td>\n",
       "      <td>11.000</td>\n",
       "      <td>80.000</td>\n",
       "    </tr>\n",
       "    <tr>\n",
       "      <th>1</th>\n",
       "      <td>Mrs</td>\n",
       "      <td>197</td>\n",
       "      <td>27</td>\n",
       "      <td>14.000</td>\n",
       "      <td>76.000</td>\n",
       "    </tr>\n",
       "    <tr>\n",
       "      <th>2</th>\n",
       "      <td>Miss</td>\n",
       "      <td>260</td>\n",
       "      <td>50</td>\n",
       "      <td>0.170</td>\n",
       "      <td>63.000</td>\n",
       "    </tr>\n",
       "    <tr>\n",
       "      <th>3</th>\n",
       "      <td>Master</td>\n",
       "      <td>61</td>\n",
       "      <td>8</td>\n",
       "      <td>0.330</td>\n",
       "      <td>14.500</td>\n",
       "    </tr>\n",
       "    <tr>\n",
       "      <th>4</th>\n",
       "      <td>Don</td>\n",
       "      <td>1</td>\n",
       "      <td>0</td>\n",
       "      <td>40.000</td>\n",
       "      <td>40.000</td>\n",
       "    </tr>\n",
       "    <tr>\n",
       "      <th>5</th>\n",
       "      <td>Rev</td>\n",
       "      <td>8</td>\n",
       "      <td>0</td>\n",
       "      <td>27.000</td>\n",
       "      <td>57.000</td>\n",
       "    </tr>\n",
       "    <tr>\n",
       "      <th>6</th>\n",
       "      <td>Dr</td>\n",
       "      <td>8</td>\n",
       "      <td>1</td>\n",
       "      <td>23.000</td>\n",
       "      <td>54.000</td>\n",
       "    </tr>\n",
       "    <tr>\n",
       "      <th>7</th>\n",
       "      <td>Mme</td>\n",
       "      <td>1</td>\n",
       "      <td>0</td>\n",
       "      <td>24.000</td>\n",
       "      <td>24.000</td>\n",
       "    </tr>\n",
       "    <tr>\n",
       "      <th>8</th>\n",
       "      <td>Ms</td>\n",
       "      <td>2</td>\n",
       "      <td>1</td>\n",
       "      <td>28.000</td>\n",
       "      <td>28.000</td>\n",
       "    </tr>\n",
       "    <tr>\n",
       "      <th>9</th>\n",
       "      <td>Major</td>\n",
       "      <td>2</td>\n",
       "      <td>0</td>\n",
       "      <td>45.000</td>\n",
       "      <td>52.000</td>\n",
       "    </tr>\n",
       "    <tr>\n",
       "      <th>10</th>\n",
       "      <td>Lady</td>\n",
       "      <td>1</td>\n",
       "      <td>0</td>\n",
       "      <td>48.000</td>\n",
       "      <td>48.000</td>\n",
       "    </tr>\n",
       "    <tr>\n",
       "      <th>11</th>\n",
       "      <td>Sir</td>\n",
       "      <td>1</td>\n",
       "      <td>0</td>\n",
       "      <td>49.000</td>\n",
       "      <td>49.000</td>\n",
       "    </tr>\n",
       "    <tr>\n",
       "      <th>12</th>\n",
       "      <td>Mlle</td>\n",
       "      <td>2</td>\n",
       "      <td>0</td>\n",
       "      <td>24.000</td>\n",
       "      <td>24.000</td>\n",
       "    </tr>\n",
       "    <tr>\n",
       "      <th>13</th>\n",
       "      <td>Col</td>\n",
       "      <td>4</td>\n",
       "      <td>0</td>\n",
       "      <td>47.000</td>\n",
       "      <td>60.000</td>\n",
       "    </tr>\n",
       "    <tr>\n",
       "      <th>14</th>\n",
       "      <td>Capt</td>\n",
       "      <td>1</td>\n",
       "      <td>0</td>\n",
       "      <td>70.000</td>\n",
       "      <td>70.000</td>\n",
       "    </tr>\n",
       "    <tr>\n",
       "      <th>15</th>\n",
       "      <td>the Countess</td>\n",
       "      <td>1</td>\n",
       "      <td>0</td>\n",
       "      <td>33.000</td>\n",
       "      <td>33.000</td>\n",
       "    </tr>\n",
       "    <tr>\n",
       "      <th>16</th>\n",
       "      <td>Jonkheer</td>\n",
       "      <td>1</td>\n",
       "      <td>0</td>\n",
       "      <td>38.000</td>\n",
       "      <td>38.000</td>\n",
       "    </tr>\n",
       "    <tr>\n",
       "      <th>17</th>\n",
       "      <td>Dona</td>\n",
       "      <td>1</td>\n",
       "      <td>0</td>\n",
       "      <td>39.000</td>\n",
       "      <td>39.000</td>\n",
       "    </tr>\n",
       "  </tbody>\n",
       "</table>\n",
       "</div>"
      ],
      "text/plain": [
       "           Title  NumPassengers  AgeMissing  MinAge  MaxAge\n",
       "0             Mr            757         176  11.000  80.000\n",
       "1            Mrs            197          27  14.000  76.000\n",
       "2           Miss            260          50   0.170  63.000\n",
       "3         Master             61           8   0.330  14.500\n",
       "4            Don              1           0  40.000  40.000\n",
       "5            Rev              8           0  27.000  57.000\n",
       "6             Dr              8           1  23.000  54.000\n",
       "7            Mme              1           0  24.000  24.000\n",
       "8             Ms              2           1  28.000  28.000\n",
       "9          Major              2           0  45.000  52.000\n",
       "10          Lady              1           0  48.000  48.000\n",
       "11           Sir              1           0  49.000  49.000\n",
       "12          Mlle              2           0  24.000  24.000\n",
       "13           Col              4           0  47.000  60.000\n",
       "14          Capt              1           0  70.000  70.000\n",
       "15  the Countess              1           0  33.000  33.000\n",
       "16      Jonkheer              1           0  38.000  38.000\n",
       "17          Dona              1           0  39.000  39.000"
      ]
     },
     "execution_count": 3242,
     "metadata": {},
     "output_type": "execute_result"
    }
   ],
   "source": [
    "def create_titles(names):\n",
    "    return [re.split(', |\\. ', name)[1] for name in all_titanic.Name]\n",
    "    \n",
    "def title_dist():\n",
    "    unique_titles = all_titanic['Title'].unique()\n",
    "    n_passengers = [sum(all_titanic['Title'] == title) for title in unique_titles]\n",
    "    age_missing = [sum((all_titanic['Title'] == title) & (pd.isnull(all_titanic['Age']))) for title in unique_titles]\n",
    "    min_age = [min(all_titanic.loc[all_titanic['Title'] == title, 'Age']) for title in unique_titles]\n",
    "    max_age = [max(all_titanic.loc[all_titanic['Title'] == title, 'Age']) for title in unique_titles]\n",
    "\n",
    "    title_dist = pd.DataFrame({'Title': unique_titles, 'NumPassengers': n_passengers, 'AgeMissing': age_missing, 'MinAge': min_age, 'MaxAge': max_age})\n",
    "    title_dist.columns.tolist()\n",
    "\n",
    "    return(title_dist[['Title', 'NumPassengers', 'AgeMissing', 'MinAge', 'MaxAge']])\n",
    "\n",
    "all_titanic['Title'] = create_titles(all_titanic.Name)\n",
    "title_dist()"
   ]
  },
  {
   "cell_type": "markdown",
   "metadata": {},
   "source": [
    "These eighteen categories can be condensed into five categories based on title and age:\n",
    "\n",
    "* Mr: For men older than 14.5 years of age\n",
    "* Master: For boys above less than or equal to 14.5 years of age\n",
    "* Miss: For girls less than or equal to 14.5 years of age\n",
    "* Ms: For women above 14.5 years of age\n",
    "* Mrs: For married women above 14.5 years"
   ]
  },
  {
   "cell_type": "code",
   "execution_count": 3243,
   "metadata": {
    "collapsed": false
   },
   "outputs": [],
   "source": [
    "def condense_titles(df):\n",
    "    df.loc[(df['Title'] == 'Mr') & \n",
    "        (df['Age'] <= 14.5) & \n",
    "        (pd.notnull(df['Age'])), 'Title'] = 'Master'\n",
    "\n",
    "    df.loc[(df['Title'] == 'Capt') |\n",
    "            (df['Title'] == 'Col') |\n",
    "            (df['Title'] == 'Don') |\n",
    "            (df['Title'] == 'Major') |\n",
    "            (df['Title'] == 'Rev') |\n",
    "            (df['Title'] == 'Jonkheer') |\n",
    "            (df['Title'] == 'Sir'), 'Title'] = 'Mr'\n",
    "\n",
    "    # None of these women are traveling with family, so they can be\n",
    "    # categorized as single women for this analysis.\n",
    "    df.loc[(df['Title'] == 'Dona') |\n",
    "            (df['Title'] == 'Mlle') |\n",
    "            (df['Title'] == 'Mme'), 'Title'] = 'Ms'\n",
    "\n",
    "    # Categorize Lady and Countess as married women\n",
    "    df.loc[(df['Title'] == 'Lady') | (df['Title'] == 'the Countess'), 'Title'] = 'Mrs'\n",
    "\n",
    "    # Categorize doctors per their sex\n",
    "    df.loc[(df['Title'] == 'Dr') & (df['Sex'] == 'female'), 'Title'] = 'Ms'\n",
    "    df.loc[(df['Title'] == 'Dr') & (df['Sex'] == 'male'), 'Title'] = 'Mr'\n",
    "    \n",
    "    return(df)\n",
    "\n",
    "all_titanic = condense_titles(all_titanic)\n"
   ]
  },
  {
   "cell_type": "code",
   "execution_count": 3244,
   "metadata": {
    "collapsed": false
   },
   "outputs": [
    {
     "data": {
      "text/html": [
       "<div>\n",
       "<table border=\"1\" class=\"dataframe\">\n",
       "  <thead>\n",
       "    <tr style=\"text-align: right;\">\n",
       "      <th></th>\n",
       "      <th>Title</th>\n",
       "      <th>NumPassengers</th>\n",
       "      <th>AgeMissing</th>\n",
       "      <th>MinAge</th>\n",
       "      <th>MaxAge</th>\n",
       "    </tr>\n",
       "  </thead>\n",
       "  <tbody>\n",
       "    <tr>\n",
       "      <th>0</th>\n",
       "      <td>Mr</td>\n",
       "      <td>777</td>\n",
       "      <td>177</td>\n",
       "      <td>15.000</td>\n",
       "      <td>80.000</td>\n",
       "    </tr>\n",
       "    <tr>\n",
       "      <th>1</th>\n",
       "      <td>Mrs</td>\n",
       "      <td>199</td>\n",
       "      <td>27</td>\n",
       "      <td>14.000</td>\n",
       "      <td>76.000</td>\n",
       "    </tr>\n",
       "    <tr>\n",
       "      <th>2</th>\n",
       "      <td>Miss</td>\n",
       "      <td>260</td>\n",
       "      <td>50</td>\n",
       "      <td>0.170</td>\n",
       "      <td>63.000</td>\n",
       "    </tr>\n",
       "    <tr>\n",
       "      <th>3</th>\n",
       "      <td>Master</td>\n",
       "      <td>66</td>\n",
       "      <td>8</td>\n",
       "      <td>0.330</td>\n",
       "      <td>14.500</td>\n",
       "    </tr>\n",
       "    <tr>\n",
       "      <th>4</th>\n",
       "      <td>Ms</td>\n",
       "      <td>7</td>\n",
       "      <td>1</td>\n",
       "      <td>24.000</td>\n",
       "      <td>49.000</td>\n",
       "    </tr>\n",
       "  </tbody>\n",
       "</table>\n",
       "</div>"
      ],
      "text/plain": [
       "    Title  NumPassengers  AgeMissing  MinAge  MaxAge\n",
       "0      Mr            777         177  15.000  80.000\n",
       "1     Mrs            199          27  14.000  76.000\n",
       "2    Miss            260          50   0.170  63.000\n",
       "3  Master             66           8   0.330  14.500\n",
       "4      Ms              7           1  24.000  49.000"
      ]
     },
     "execution_count": 3244,
     "metadata": {},
     "output_type": "execute_result"
    }
   ],
   "source": [
    "title_dist()"
   ]
  },
  {
   "cell_type": "markdown",
   "metadata": {},
   "source": [
    "### FamilySize\n",
    "FamilySize is based on the number of family members traveling with a passenger."
   ]
  },
  {
   "cell_type": "code",
   "execution_count": 3245,
   "metadata": {
    "collapsed": false
   },
   "outputs": [],
   "source": [
    "# Small = True, Big = False\n",
    "all_titanic['FamilySize'] = (all_titanic['SibSp'] + all_titanic['Parch']) <= 3\n",
    "all_titanic['FamilySize'] = all_titanic['FamilySize'].astype(int)"
   ]
  },
  {
   "cell_type": "markdown",
   "metadata": {},
   "source": [
    "### Mother\n",
    "Identify the ladies traveling with their children."
   ]
  },
  {
   "cell_type": "code",
   "execution_count": 3246,
   "metadata": {
    "collapsed": false
   },
   "outputs": [],
   "source": [
    "all_titanic['Mother'] = (all_titanic['Title'] == 'Mrs') & (all_titanic['Parch'] > 0)\n",
    "all_titanic['Mother'] = all_titanic['Mother'].astype(int)"
   ]
  },
  {
   "cell_type": "markdown",
   "metadata": {},
   "source": [
    "### Single\n",
    "Identify people traveling solo."
   ]
  },
  {
   "cell_type": "code",
   "execution_count": 3247,
   "metadata": {
    "collapsed": true
   },
   "outputs": [],
   "source": [
    "all_titanic['Single'] = all_titanic['SibSp'] + all_titanic['Parch'] + 1 == 1\n",
    "all_titanic['Single'] = all_titanic['Single'].astype(int)"
   ]
  },
  {
   "cell_type": "markdown",
   "metadata": {},
   "source": [
    "### Family Name\n",
    "The family name of each individual can be extracted from their names. "
   ]
  },
  {
   "cell_type": "code",
   "execution_count": 3248,
   "metadata": {
    "collapsed": true
   },
   "outputs": [],
   "source": [
    "all_titanic['FamilyName'] = [re.split(', ', name)[0] for name in all_titanic['Name']]"
   ]
  },
  {
   "cell_type": "markdown",
   "metadata": {},
   "source": [
    "Since there are possibly many people sharing the same family name, it's necessary to distinguish family separately."
   ]
  },
  {
   "cell_type": "code",
   "execution_count": 3249,
   "metadata": {
    "collapsed": false
   },
   "outputs": [
    {
     "data": {
      "text/html": [
       "<div>\n",
       "<table border=\"1\" class=\"dataframe\">\n",
       "  <thead>\n",
       "    <tr style=\"text-align: right;\">\n",
       "      <th></th>\n",
       "      <th>FamilyName</th>\n",
       "      <th>Ticket</th>\n",
       "    </tr>\n",
       "  </thead>\n",
       "  <tbody>\n",
       "    <tr>\n",
       "      <th>746</th>\n",
       "      <td>Abbott</td>\n",
       "      <td>C.A. 2673</td>\n",
       "    </tr>\n",
       "    <tr>\n",
       "      <th>1283</th>\n",
       "      <td>Abbott</td>\n",
       "      <td>C.A. 2673</td>\n",
       "    </tr>\n",
       "    <tr>\n",
       "      <th>279</th>\n",
       "      <td>Abbott</td>\n",
       "      <td>C.A. 2673</td>\n",
       "    </tr>\n",
       "    <tr>\n",
       "      <th>874</th>\n",
       "      <td>Abelson</td>\n",
       "      <td>P/PP 3381</td>\n",
       "    </tr>\n",
       "    <tr>\n",
       "      <th>308</th>\n",
       "      <td>Abelson</td>\n",
       "      <td>P/PP 3381</td>\n",
       "    </tr>\n",
       "  </tbody>\n",
       "</table>\n",
       "</div>"
      ],
      "text/plain": [
       "     FamilyName     Ticket\n",
       "746      Abbott  C.A. 2673\n",
       "1283     Abbott  C.A. 2673\n",
       "279      Abbott  C.A. 2673\n",
       "874     Abelson  P/PP 3381\n",
       "308     Abelson  P/PP 3381"
      ]
     },
     "execution_count": 3249,
     "metadata": {},
     "output_type": "execute_result"
    }
   ],
   "source": [
    "family_ticket = all_titanic.loc[all_titanic['Single'] == 0, ['FamilyName', 'Ticket']]\n",
    "family_ticket = family_ticket.sort_values('FamilyName')\n",
    "family_ticket.head()"
   ]
  },
  {
   "cell_type": "markdown",
   "metadata": {},
   "source": [
    "Barring few exceptions, in general, a family shared the same ticket number. This can be a good way of identifying families. Here, we extract the last three digits of the ticket and attach it to the family name, thereby creating unique family names per family."
   ]
  },
  {
   "cell_type": "code",
   "execution_count": 3250,
   "metadata": {
    "collapsed": false
   },
   "outputs": [],
   "source": [
    "last_digits = [ticket[-3:] for ticket in all_titanic['Ticket']]\n",
    "all_titanic['FamilyName'] = all_titanic['FamilyName'] + last_digits"
   ]
  },
  {
   "cell_type": "markdown",
   "metadata": {},
   "source": [
    "### Family Survived\n",
    "Based on the exploratory analysis, a feature representing the survival of family can be created. Families traveling together may have tried to escape together and their survival would be closely tied to each other."
   ]
  },
  {
   "cell_type": "code",
   "execution_count": 3251,
   "metadata": {
    "collapsed": true
   },
   "outputs": [],
   "source": [
    "all_titanic['FamilySurvived'] = 0\n",
    "\n",
    "# DataFrame of all passengers with family\n",
    "families = all_titanic.loc[all_titanic['Parch'] + all_titanic['SibSp'] > 0, ]\n",
    "\n",
    "# Group families by their family name and number of survivals in the family\n",
    "by_family_name = families.groupby(['FamilyName'])\n",
    "family_name_survived = by_family_name['Survived'].sum()"
   ]
  },
  {
   "cell_type": "code",
   "execution_count": 3252,
   "metadata": {
    "collapsed": false
   },
   "outputs": [],
   "source": [
    "# Family is considered to have survived if at least one member survived\n",
    "family_name_survived = family_name_survived[family_name_survived > 0]\n",
    "survived_names = family_name_survived.index.values\n",
    "all_titanic.loc[all_titanic['FamilyName'].isin(survived_names), 'FamilySurvived'] = 1"
   ]
  },
  {
   "cell_type": "markdown",
   "metadata": {},
   "source": [
    "### AgeClass\n",
    "We can categorize Age into four classes:\n",
    "* Class 1: 10 and below\n",
    "* Class 2: Above 10 and less than equal to 20\n",
    "* Class 3: Above 20 and less than equal to 35\n",
    "* Class 4: Above 35\n",
    "\n",
    "Since Age is missing for many observations, there will be some data missing here too, which can be calculated after imputing Age."
   ]
  },
  {
   "cell_type": "code",
   "execution_count": 3253,
   "metadata": {
    "collapsed": false
   },
   "outputs": [],
   "source": [
    "all_titanic['AgeClass'] = 0\n",
    "all_titanic.loc[all_titanic['Age'] <= 10, 'AgeClass'] = 1\n",
    "all_titanic.loc[(all_titanic['Age'] > 10) & (all_titanic['Age'] <= 20), 'AgeClass'] = 2\n",
    "all_titanic.loc[(all_titanic['Age'] > 20) & (all_titanic['Age'] <= 35), 'AgeClass'] = 3\n",
    "all_titanic.loc[all_titanic['Age'] >= 35, 'AgeClass'] = 4"
   ]
  },
  {
   "cell_type": "markdown",
   "metadata": {},
   "source": [
    "## Imputing missing data\n",
    "Let's find out which columns have missing data:"
   ]
  },
  {
   "cell_type": "code",
   "execution_count": 3254,
   "metadata": {
    "collapsed": false
   },
   "outputs": [
    {
     "data": {
      "text/plain": [
       "Age                263\n",
       "Cabin             1014\n",
       "Embarked             2\n",
       "Fare                 1\n",
       "Parch                0\n",
       "Pclass               0\n",
       "Sex                  0\n",
       "SibSp                0\n",
       "Title                0\n",
       "FamilySize           0\n",
       "Mother               0\n",
       "Single               0\n",
       "FamilyName           0\n",
       "FamilySurvived       0\n",
       "dtype: int64"
      ]
     },
     "execution_count": 3254,
     "metadata": {},
     "output_type": "execute_result"
    }
   ],
   "source": [
    "cols = [col for col in all_titanic.columns if col not in ['Survived', 'Name', 'PassengerId', 'Ticket', 'AgeClass']]\n",
    "all_titanic[cols].isnull().sum()"
   ]
  },
  {
   "cell_type": "markdown",
   "metadata": {},
   "source": [
    "There are 263 observations where Age is missing, 1014 observations have Cabin missing, 2 observations with Embarked missing, and 1 observation with Fare missing.\n",
    "\n",
    "### Embarked \n",
    "Two of the passengers have information about their port of embarkation missing. These two observations belong two female passengers who survived and were traveling first class in a B cabin. Since most of the females in first class who survived embarked either from Southampton or Cherbourg and the mode of Embarked is S, we'll assume they embarked at Southampton."
   ]
  },
  {
   "cell_type": "code",
   "execution_count": 3255,
   "metadata": {
    "collapsed": false
   },
   "outputs": [],
   "source": [
    "all_titanic.loc[pd.isnull(all_titanic['Embarked']), 'Embarked'] = 'S'"
   ]
  },
  {
   "cell_type": "markdown",
   "metadata": {},
   "source": [
    "### Fare\n",
    "We'll use a decision tree to predict the one missing fare observation, using other features as predictors.\n",
    "\n",
    "Before doing this, we need to create dummies for our categorical variables."
   ]
  },
  {
   "cell_type": "code",
   "execution_count": 3256,
   "metadata": {
    "collapsed": false
   },
   "outputs": [],
   "source": [
    "ports = pd.get_dummies(all_titanic['Embarked'])\n",
    "titles = pd.get_dummies(all_titanic['Title'])\n",
    "\n",
    "all_titanic = pd.concat([all_titanic, ports, titles], axis = 1)\n",
    "all_titanic = all_titanic.drop(['Embarked', 'Title'], axis = 1)"
   ]
  },
  {
   "cell_type": "code",
   "execution_count": 3257,
   "metadata": {
    "collapsed": false
   },
   "outputs": [],
   "source": [
    "features = ['Pclass', 'SibSp', 'Parch', 'C', 'Q', 'S', 'Master', 'Miss', 'Mr', 'Mrs', 'Ms']\n",
    "\n",
    "all_fares = all_titanic.loc[pd.notnull(all_titanic['Fare'])]\n",
    "missing_fare = all_titanic.loc[pd.isnull(all_titanic['Fare'])]\n",
    "\n",
    "#Create decision tree Regressor\n",
    "clf = DecisionTreeRegressor(random_state=0)\n",
    "\n",
    "X = all_fares[features]\n",
    "y = all_fares['Fare']\n",
    "clf.fit(X, y)\n",
    "\n",
    "# # Predict fare based on this\n",
    "all_titanic.loc[pd.isnull(all_titanic['Fare']), 'Fare'] = clf.predict(missing_fare[features])"
   ]
  },
  {
   "cell_type": "markdown",
   "metadata": {},
   "source": [
    "### Age\n",
    "We noticed earlier that 263 passengers have missing ages. We will use multiple chaining"
   ]
  },
  {
   "cell_type": "code",
   "execution_count": 3258,
   "metadata": {
    "collapsed": false
   },
   "outputs": [
    {
     "data": {
      "text/html": [
       "<div>\n",
       "<table border=\"1\" class=\"dataframe\">\n",
       "  <thead>\n",
       "    <tr style=\"text-align: right;\">\n",
       "      <th>Pclass</th>\n",
       "      <th>1</th>\n",
       "      <th>2</th>\n",
       "      <th>3</th>\n",
       "    </tr>\n",
       "    <tr>\n",
       "      <th>Age</th>\n",
       "      <th></th>\n",
       "      <th></th>\n",
       "      <th></th>\n",
       "    </tr>\n",
       "  </thead>\n",
       "  <tbody>\n",
       "    <tr>\n",
       "      <th>False</th>\n",
       "      <td>284</td>\n",
       "      <td>261</td>\n",
       "      <td>501</td>\n",
       "    </tr>\n",
       "    <tr>\n",
       "      <th>True</th>\n",
       "      <td>39</td>\n",
       "      <td>16</td>\n",
       "      <td>208</td>\n",
       "    </tr>\n",
       "  </tbody>\n",
       "</table>\n",
       "</div>"
      ],
      "text/plain": [
       "Pclass    1    2    3\n",
       "Age                  \n",
       "False   284  261  501\n",
       "True     39   16  208"
      ]
     },
     "execution_count": 3258,
     "metadata": {},
     "output_type": "execute_result"
    }
   ],
   "source": [
    "pd.crosstab(pd.isnull(all_titanic['Age']), all_titanic.Pclass)"
   ]
  },
  {
   "cell_type": "code",
   "execution_count": 3259,
   "metadata": {
    "collapsed": false
   },
   "outputs": [
    {
     "name": "stdout",
     "output_type": "stream",
     "text": [
      "[MICE] Completing matrix with shape (1309, 18)\n",
      "[MICE] Starting imputation round 1/16, elapsed time 0.000\n",
      "[MICE] Starting imputation round 2/16, elapsed time 0.001\n",
      "[MICE] Starting imputation round 3/16, elapsed time 0.001\n",
      "[MICE] Starting imputation round 4/16, elapsed time 0.002\n",
      "[MICE] Starting imputation round 5/16, elapsed time 0.002\n",
      "[MICE] Starting imputation round 6/16, elapsed time 0.003\n",
      "[MICE] Starting imputation round 7/16, elapsed time 0.003\n",
      "[MICE] Starting imputation round 8/16, elapsed time 0.003\n",
      "[MICE] Starting imputation round 9/16, elapsed time 0.004\n",
      "[MICE] Starting imputation round 10/16, elapsed time 0.004\n",
      "[MICE] Starting imputation round 11/16, elapsed time 0.005\n",
      "[MICE] Starting imputation round 12/16, elapsed time 0.005\n",
      "[MICE] Starting imputation round 13/16, elapsed time 0.005\n",
      "[MICE] Starting imputation round 14/16, elapsed time 0.006\n",
      "[MICE] Starting imputation round 15/16, elapsed time 0.006\n",
      "[MICE] Starting imputation round 16/16, elapsed time 0.007\n"
     ]
    }
   ],
   "source": [
    "impute_missing = all_titanic.drop(['Survived', 'Name', 'PassengerId', 'Ticket', 'AgeClass', 'Cabin', 'FamilyName'], axis=1)\n",
    "\n",
    "impute_missing['Sex'] = impute_missing['Sex'].map( {'female': 0, 'male': 1} ).astype(int)\n",
    "\n",
    "filled_soft = fancyimpute.MICE(n_imputations=6, impute_type='col').complete(np.array(impute_missing))"
   ]
  },
  {
   "cell_type": "markdown",
   "metadata": {},
   "source": [
    "Let's compare the original distribution of ages vs. the imputed ages:"
   ]
  },
  {
   "cell_type": "code",
   "execution_count": 3260,
   "metadata": {
    "collapsed": false
   },
   "outputs": [
    {
     "name": "stderr",
     "output_type": "stream",
     "text": [
      "/Users/hkwik/anaconda/envs/py35/lib/python3.5/site-packages/statsmodels/nonparametric/kdetools.py:20: VisibleDeprecationWarning: using a non-integer number instead of an integer will result in an error in the future\n",
      "  y = X[:m/2+1] + np.r_[0,X[m/2+1:],0]*1j\n"
     ]
    },
    {
     "data": {
      "image/png": "[encoded data removed]",
      "text/plain": [
       "<matplotlib.figure.Figure at 0x1235229e8>"
      ]
     },
     "metadata": {},
     "output_type": "display_data"
    }
   ],
   "source": [
    "imputed_ages = pd.DataFrame(filled_soft, columns = list(impute_missing))\n",
    "sns.kdeplot(imputed_ages['Age'], label = 'imputed')\n",
    "ax = sns.kdeplot(all_titanic['Age'], label = 'original')\n",
    "ax.set(xlabel='Age', ylabel='Density');"
   ]
  },
  {
   "cell_type": "markdown",
   "metadata": {},
   "source": [
    "The imputed data seems to be acceptable, so we'll use it for filling in the missing values in AgeClass and Title."
   ]
  },
  {
   "cell_type": "code",
   "execution_count": 3261,
   "metadata": {
    "collapsed": false
   },
   "outputs": [
    {
     "name": "stdout",
     "output_type": "stream",
     "text": [
      "Age     False  True \n",
      "Title               \n",
      "Master     59      8\n",
      "Miss       50    210\n",
      "Mr          0    776\n",
      "Mrs         1    198\n",
      "Ms          0      7\n",
      "Age     False  True \n",
      "Title               \n",
      "Master     59      0\n",
      "Miss       50      0\n",
      "Mr          0    784\n",
      "Mrs         1    198\n",
      "Ms          0    217\n"
     ]
    }
   ],
   "source": [
    "all_titanic['Age'] = imputed_ages['Age']\n",
    "\n",
    "# Fill in missing age class\n",
    "all_titanic.loc[all_titanic['Age'] <= 10, 'AgeClass'] = 1\n",
    "all_titanic.loc[(all_titanic['Age'] > 10) & (all_titanic['Age'] <= 20), 'AgeClass'] = 2\n",
    "all_titanic.loc[(all_titanic['Age'] > 20) & (all_titanic['Age'] <= 35), 'AgeClass'] = 3\n",
    "all_titanic.loc[all_titanic['Age'] >= 35, 'AgeClass'] = 4\n",
    "\n",
    "# Fill in missing titles\n",
    "\n",
    "# Drop the dummies title columns\n",
    "all_titanic = all_titanic.drop(list(titles), axis = 1)\n",
    "\n",
    "# Redo the titles\n",
    "all_titanic['Title'] = create_titles(all_titanic['Name'])\n",
    "all_titanic = condense_titles(all_titanic)\n",
    "\n",
    "print(pd.crosstab(all_titanic['Title'], all_titanic['Age'] > 14.5))\n",
    "all_titanic.loc[(all_titanic['Title'] == 'Master') & (all_titanic['Age'] > 14.5), 'Title'] = 'Mr'\n",
    "all_titanic.loc[(all_titanic['Title'] == 'Miss') & (all_titanic['Age'] > 14.5), 'Title'] = 'Ms'\n",
    "all_titanic.loc[(all_titanic['Title'] == 'Mr') & (all_titanic['Age'] <= 14.5), 'Title'] = 'Master'\n",
    "print(pd.crosstab(all_titanic['Title'], all_titanic['Age'] > 14.5))\n",
    "\n",
    "# Drop the title column and re-add the dummies\n",
    "titles = pd.get_dummies(all_titanic['Title'])\n",
    "all_titanic = pd.concat([all_titanic, titles], axis = 1)\n",
    "all_titanic = all_titanic.drop(['Title'], axis = 1)"
   ]
  },
  {
   "cell_type": "markdown",
   "metadata": {},
   "source": [
    "### Cabin\n",
    "Missing cabin data can be imputed for people from the same family, assuming they shared the cabins or had cabins nearby."
   ]
  },
  {
   "cell_type": "code",
   "execution_count": 3262,
   "metadata": {
    "collapsed": false
   },
   "outputs": [
    {
     "name": "stdout",
     "output_type": "stream",
     "text": [
      "# of Missing Cabin Letters     : 1014\n",
      "# of Non-missing Cabin Letters : 295\n"
     ]
    }
   ],
   "source": [
    "# Set CabinLetter equal to Cabin\n",
    "all_titanic['CabinLetter'] = all_titanic['Cabin']\n",
    "\n",
    "# For non-missing values, extract the first letter and save it as CabinLetter\n",
    "letters = [cabin[:1] for cabin in all_titanic.loc[pd.notnull(all_titanic['CabinLetter']), 'CabinLetter']]\n",
    "all_titanic.loc[pd.notnull(all_titanic['CabinLetter']), 'CabinLetter'] = letters\n",
    "\n",
    "print(\"# of Missing Cabin Letters     : %d\" % all_titanic['CabinLetter'].isnull().sum())\n",
    "print(\"# of Non-missing Cabin Letters : %d\" % all_titanic['CabinLetter'].notnull().sum())"
   ]
  },
  {
   "cell_type": "code",
   "execution_count": 3263,
   "metadata": {
    "collapsed": false
   },
   "outputs": [
    {
     "data": {
      "text/html": [
       "<div>\n",
       "<table border=\"1\" class=\"dataframe\">\n",
       "  <thead>\n",
       "    <tr style=\"text-align: right;\">\n",
       "      <th></th>\n",
       "      <th>FamilyName</th>\n",
       "      <th>CabinLetter</th>\n",
       "    </tr>\n",
       "  </thead>\n",
       "  <tbody>\n",
       "    <tr>\n",
       "      <th>1</th>\n",
       "      <td>Cumings599</td>\n",
       "      <td>C</td>\n",
       "    </tr>\n",
       "    <tr>\n",
       "      <th>3</th>\n",
       "      <td>Futrelle803</td>\n",
       "      <td>C</td>\n",
       "    </tr>\n",
       "    <tr>\n",
       "      <th>10</th>\n",
       "      <td>Sandstrom549</td>\n",
       "      <td>G</td>\n",
       "    </tr>\n",
       "    <tr>\n",
       "      <th>27</th>\n",
       "      <td>Fortune950</td>\n",
       "      <td>C</td>\n",
       "    </tr>\n",
       "    <tr>\n",
       "      <th>31</th>\n",
       "      <td>Spencer569</td>\n",
       "      <td>B</td>\n",
       "    </tr>\n",
       "  </tbody>\n",
       "</table>\n",
       "</div>"
      ],
      "text/plain": [
       "      FamilyName CabinLetter\n",
       "1     Cumings599           C\n",
       "3    Futrelle803           C\n",
       "10  Sandstrom549           G\n",
       "27    Fortune950           C\n",
       "31    Spencer569           B"
      ]
     },
     "execution_count": 3263,
     "metadata": {},
     "output_type": "execute_result"
    }
   ],
   "source": [
    "# Create a dataset of families with cabin data\n",
    "family_with_cabin = all_titanic.loc[pd.notnull(all_titanic['CabinLetter']) & (all_titanic['SibSp'] + all_titanic['Parch'] > 0), ['FamilyName', 'CabinLetter']]\n",
    "family_with_cabin = family_with_cabin.drop_duplicates()\n",
    "family_with_cabin.head()"
   ]
  },
  {
   "cell_type": "markdown",
   "metadata": {},
   "source": [
    "For the passengers whose cabin letter is missing, see if their family name has an associated cabin letter. This ends up filling in the cabin letter for four passengers."
   ]
  },
  {
   "cell_type": "code",
   "execution_count": 3264,
   "metadata": {
    "collapsed": false
   },
   "outputs": [
    {
     "name": "stdout",
     "output_type": "stream",
     "text": [
      "# of Missing Cabin Letters     : 1010\n",
      "# of Non-missing Cabin Letters : 299\n"
     ]
    }
   ],
   "source": [
    "def check_family_has_cabin(row):\n",
    "    family_name = row['FamilyName']\n",
    "    cabin_letter = row['CabinLetter']\n",
    "\n",
    "    n_matches = sum(family_with_cabin['FamilyName'].str.contains(family_name))\n",
    "    if n_matches > 0:\n",
    "        value = family_with_cabin.loc[family_with_cabin['FamilyName'] == family_name, 'CabinLetter']\n",
    "        cabin_letter = value.iloc[0]\n",
    "\n",
    "    return(cabin_letter)\n",
    "\n",
    "missing_cabins = all_titanic.loc[pd.isnull(all_titanic['CabinLetter']), ['FamilyName', 'CabinLetter']]\n",
    "result = missing_cabins.apply(check_family_has_cabin, 1)\n",
    "\n",
    "all_titanic.loc[pd.isnull(all_titanic['CabinLetter']), 'CabinLetter'] = result\n",
    "\n",
    "print(\"# of Missing Cabin Letters     : %d\" % all_titanic['CabinLetter'].isnull().sum())\n",
    "print(\"# of Non-missing Cabin Letters : %d\" % all_titanic['CabinLetter'].notnull().sum())"
   ]
  },
  {
   "cell_type": "markdown",
   "metadata": {},
   "source": [
    "There are still many missing cabin letters. We'll use the proportions in the cross-tab below to fill them in. \n",
    "\n",
    "Per [Encycolpedia Titanica](https://www.encyclopedia-titanica.org/cabins.html) there is no evidence that anyone else occupied the \"T\" cabin, so we omit this when we impute."
   ]
  },
  {
   "cell_type": "code",
   "execution_count": 3265,
   "metadata": {
    "collapsed": false
   },
   "outputs": [
    {
     "data": {
      "text/html": [
       "<div>\n",
       "<table border=\"1\" class=\"dataframe\">\n",
       "  <thead>\n",
       "    <tr style=\"text-align: right;\">\n",
       "      <th>Pclass</th>\n",
       "      <th>1</th>\n",
       "      <th>2</th>\n",
       "      <th>3</th>\n",
       "    </tr>\n",
       "    <tr>\n",
       "      <th>CabinLetter</th>\n",
       "      <th></th>\n",
       "      <th></th>\n",
       "      <th></th>\n",
       "    </tr>\n",
       "  </thead>\n",
       "  <tbody>\n",
       "    <tr>\n",
       "      <th>A</th>\n",
       "      <td>22</td>\n",
       "      <td>0</td>\n",
       "      <td>0</td>\n",
       "    </tr>\n",
       "    <tr>\n",
       "      <th>B</th>\n",
       "      <td>65</td>\n",
       "      <td>0</td>\n",
       "      <td>0</td>\n",
       "    </tr>\n",
       "    <tr>\n",
       "      <th>C</th>\n",
       "      <td>96</td>\n",
       "      <td>0</td>\n",
       "      <td>0</td>\n",
       "    </tr>\n",
       "    <tr>\n",
       "      <th>D</th>\n",
       "      <td>40</td>\n",
       "      <td>6</td>\n",
       "      <td>0</td>\n",
       "    </tr>\n",
       "    <tr>\n",
       "      <th>E</th>\n",
       "      <td>34</td>\n",
       "      <td>4</td>\n",
       "      <td>3</td>\n",
       "    </tr>\n",
       "    <tr>\n",
       "      <th>F</th>\n",
       "      <td>0</td>\n",
       "      <td>13</td>\n",
       "      <td>10</td>\n",
       "    </tr>\n",
       "    <tr>\n",
       "      <th>G</th>\n",
       "      <td>0</td>\n",
       "      <td>0</td>\n",
       "      <td>5</td>\n",
       "    </tr>\n",
       "    <tr>\n",
       "      <th>T</th>\n",
       "      <td>1</td>\n",
       "      <td>0</td>\n",
       "      <td>0</td>\n",
       "    </tr>\n",
       "  </tbody>\n",
       "</table>\n",
       "</div>"
      ],
      "text/plain": [
       "Pclass        1   2   3\n",
       "CabinLetter            \n",
       "A            22   0   0\n",
       "B            65   0   0\n",
       "C            96   0   0\n",
       "D            40   6   0\n",
       "E            34   4   3\n",
       "F             0  13  10\n",
       "G             0   0   5\n",
       "T             1   0   0"
      ]
     },
     "execution_count": 3265,
     "metadata": {},
     "output_type": "execute_result"
    }
   ],
   "source": [
    "pd.crosstab(all_titanic['CabinLetter'], all_titanic['Pclass'])"
   ]
  },
  {
   "cell_type": "code",
   "execution_count": 3266,
   "metadata": {
    "collapsed": false
   },
   "outputs": [
    {
     "data": {
      "text/html": [
       "<div>\n",
       "<table border=\"1\" class=\"dataframe\">\n",
       "  <thead>\n",
       "    <tr style=\"text-align: right;\">\n",
       "      <th>Pclass</th>\n",
       "      <th>1</th>\n",
       "      <th>2</th>\n",
       "      <th>3</th>\n",
       "    </tr>\n",
       "    <tr>\n",
       "      <th>CabinLetter</th>\n",
       "      <th></th>\n",
       "      <th></th>\n",
       "      <th></th>\n",
       "    </tr>\n",
       "  </thead>\n",
       "  <tbody>\n",
       "    <tr>\n",
       "      <th>False</th>\n",
       "      <td>258</td>\n",
       "      <td>23</td>\n",
       "      <td>18</td>\n",
       "    </tr>\n",
       "    <tr>\n",
       "      <th>True</th>\n",
       "      <td>65</td>\n",
       "      <td>254</td>\n",
       "      <td>691</td>\n",
       "    </tr>\n",
       "  </tbody>\n",
       "</table>\n",
       "</div>"
      ],
      "text/plain": [
       "Pclass         1    2    3\n",
       "CabinLetter               \n",
       "False        258   23   18\n",
       "True          65  254  691"
      ]
     },
     "execution_count": 3266,
     "metadata": {},
     "output_type": "execute_result"
    }
   ],
   "source": [
    "pd.crosstab(pd.isnull(all_titanic['CabinLetter']), all_titanic['Pclass'])"
   ]
  },
  {
   "cell_type": "code",
   "execution_count": 3267,
   "metadata": {
    "collapsed": false
   },
   "outputs": [],
   "source": [
    "# First class\n",
    "A1 = round(22/258 * 65)\n",
    "B1 = round(65/258 * 65)\n",
    "C1 = round(96/258 * 65)\n",
    "D1 = round(40/258 * 65)\n",
    "E1 = 65 - (A1+B1+C1+D1)\n",
    "\n",
    "# Second class\n",
    "D2 = round(6/23 * 254)\n",
    "E2 = round(4/23 * 254)\n",
    "F2 = 254 - (D2+E2)\n",
    "\n",
    "# Third class\n",
    "E3 = round(3/18 * 691)\n",
    "F3 = round(8/18 * 691)\n",
    "G3 = 691 - (E3+F3)\n",
    "\n",
    "all_titanic.loc[all_titanic[(all_titanic['Pclass'] == 1) & (pd.isnull(all_titanic['CabinLetter']))].sample(A1, random_state=0).index, \n",
    "               'CabinLetter'] = [\"A\"] * A1\n",
    "all_titanic.loc[all_titanic[(all_titanic['Pclass'] == 1) & (pd.isnull(all_titanic['CabinLetter']))].sample(B1, random_state=0).index, \n",
    "               'CabinLetter'] = [\"B\"] * B1\n",
    "all_titanic.loc[all_titanic[(all_titanic['Pclass'] == 1) & (pd.isnull(all_titanic['CabinLetter']))].sample(C1, random_state=0).index, \n",
    "               'CabinLetter'] = [\"C\"] * C1\n",
    "all_titanic.loc[all_titanic[(all_titanic['Pclass'] == 1) & (pd.isnull(all_titanic['CabinLetter']))].sample(D1, random_state=0).index, \n",
    "               'CabinLetter'] = [\"D\"] * D1\n",
    "all_titanic.loc[all_titanic[(all_titanic['Pclass'] == 1) & (pd.isnull(all_titanic['CabinLetter']))].sample(E1, random_state=0).index, \n",
    "               'CabinLetter'] = [\"E\"] * E1\n",
    "\n",
    "all_titanic.loc[all_titanic[(all_titanic['Pclass'] == 2) & (pd.isnull(all_titanic['CabinLetter']))].sample(D2, random_state=0).index, \n",
    "               'CabinLetter'] = [\"D\"] * D2\n",
    "all_titanic.loc[all_titanic[(all_titanic['Pclass'] == 2) & (pd.isnull(all_titanic['CabinLetter']))].sample(E2, random_state=0).index, \n",
    "               'CabinLetter'] = [\"E\"] * E2\n",
    "all_titanic.loc[all_titanic[(all_titanic['Pclass'] == 2) & (pd.isnull(all_titanic['CabinLetter']))].sample(F2, random_state=0).index, \n",
    "               'CabinLetter'] = [\"F\"] * F2\n",
    "\n",
    "all_titanic.loc[all_titanic[(all_titanic['Pclass'] == 3) & (pd.isnull(all_titanic['CabinLetter']))].sample(E3, random_state=0).index, \n",
    "               'CabinLetter'] = [\"E\"] * E3\n",
    "all_titanic.loc[all_titanic[(all_titanic['Pclass'] == 3) & (pd.isnull(all_titanic['CabinLetter']))].sample(F3, random_state=0).index, \n",
    "               'CabinLetter'] = [\"F\"] * F3\n",
    "all_titanic.loc[all_titanic[(all_titanic['Pclass'] == 3) & (pd.isnull(all_titanic['CabinLetter']))].sample(G3, random_state=0).index, \n",
    "               'CabinLetter'] = [\"G\"] * G3\n"
   ]
  },
  {
   "cell_type": "code",
   "execution_count": 3268,
   "metadata": {
    "collapsed": false
   },
   "outputs": [
    {
     "data": {
      "text/html": [
       "<div>\n",
       "<table border=\"1\" class=\"dataframe\">\n",
       "  <thead>\n",
       "    <tr style=\"text-align: right;\">\n",
       "      <th>Pclass</th>\n",
       "      <th>1</th>\n",
       "      <th>2</th>\n",
       "      <th>3</th>\n",
       "    </tr>\n",
       "    <tr>\n",
       "      <th>CabinLetter</th>\n",
       "      <th></th>\n",
       "      <th></th>\n",
       "      <th></th>\n",
       "    </tr>\n",
       "  </thead>\n",
       "  <tbody>\n",
       "    <tr>\n",
       "      <th>A</th>\n",
       "      <td>28</td>\n",
       "      <td>0</td>\n",
       "      <td>0</td>\n",
       "    </tr>\n",
       "    <tr>\n",
       "      <th>B</th>\n",
       "      <td>81</td>\n",
       "      <td>0</td>\n",
       "      <td>0</td>\n",
       "    </tr>\n",
       "    <tr>\n",
       "      <th>C</th>\n",
       "      <td>120</td>\n",
       "      <td>0</td>\n",
       "      <td>0</td>\n",
       "    </tr>\n",
       "    <tr>\n",
       "      <th>D</th>\n",
       "      <td>50</td>\n",
       "      <td>72</td>\n",
       "      <td>0</td>\n",
       "    </tr>\n",
       "    <tr>\n",
       "      <th>E</th>\n",
       "      <td>43</td>\n",
       "      <td>48</td>\n",
       "      <td>118</td>\n",
       "    </tr>\n",
       "    <tr>\n",
       "      <th>F</th>\n",
       "      <td>0</td>\n",
       "      <td>157</td>\n",
       "      <td>317</td>\n",
       "    </tr>\n",
       "    <tr>\n",
       "      <th>G</th>\n",
       "      <td>0</td>\n",
       "      <td>0</td>\n",
       "      <td>274</td>\n",
       "    </tr>\n",
       "    <tr>\n",
       "      <th>T</th>\n",
       "      <td>1</td>\n",
       "      <td>0</td>\n",
       "      <td>0</td>\n",
       "    </tr>\n",
       "  </tbody>\n",
       "</table>\n",
       "</div>"
      ],
      "text/plain": [
       "Pclass         1    2    3\n",
       "CabinLetter               \n",
       "A             28    0    0\n",
       "B             81    0    0\n",
       "C            120    0    0\n",
       "D             50   72    0\n",
       "E             43   48  118\n",
       "F              0  157  317\n",
       "G              0    0  274\n",
       "T              1    0    0"
      ]
     },
     "execution_count": 3268,
     "metadata": {},
     "output_type": "execute_result"
    }
   ],
   "source": [
    "pd.crosstab(all_titanic['CabinLetter'], all_titanic['Pclass'])"
   ]
  },
  {
   "cell_type": "code",
   "execution_count": 3269,
   "metadata": {
    "collapsed": false
   },
   "outputs": [
    {
     "data": {
      "text/html": [
       "<div>\n",
       "<table border=\"1\" class=\"dataframe\">\n",
       "  <thead>\n",
       "    <tr style=\"text-align: right;\">\n",
       "      <th>Pclass</th>\n",
       "      <th>1</th>\n",
       "      <th>2</th>\n",
       "      <th>3</th>\n",
       "    </tr>\n",
       "    <tr>\n",
       "      <th>CabinLetter</th>\n",
       "      <th></th>\n",
       "      <th></th>\n",
       "      <th></th>\n",
       "    </tr>\n",
       "  </thead>\n",
       "  <tbody>\n",
       "    <tr>\n",
       "      <th>False</th>\n",
       "      <td>323</td>\n",
       "      <td>277</td>\n",
       "      <td>709</td>\n",
       "    </tr>\n",
       "  </tbody>\n",
       "</table>\n",
       "</div>"
      ],
      "text/plain": [
       "Pclass         1    2    3\n",
       "CabinLetter               \n",
       "False        323  277  709"
      ]
     },
     "execution_count": 3269,
     "metadata": {},
     "output_type": "execute_result"
    }
   ],
   "source": [
    "pd.crosstab(pd.isnull(all_titanic['CabinLetter']), all_titanic['Pclass'])"
   ]
  },
  {
   "cell_type": "markdown",
   "metadata": {},
   "source": [
    "Before continuing, we convert cabin letter to dummies. After that, we split back into separate training and test sets."
   ]
  },
  {
   "cell_type": "code",
   "execution_count": 3270,
   "metadata": {
    "collapsed": false
   },
   "outputs": [],
   "source": [
    "cabin_letters = pd.get_dummies(all_titanic['CabinLetter'])\n",
    "all_titanic = pd.concat([all_titanic, cabin_letters], axis = 1)\n",
    "all_titanic = all_titanic.drop(['CabinLetter', 'Name', 'Ticket', 'Cabin', 'FamilyName'], axis = 1)\n",
    "\n",
    "train = all_titanic.iloc[:891]\n",
    "test = all_titanic.iloc[891:]"
   ]
  },
  {
   "cell_type": "markdown",
   "metadata": {},
   "source": [
    "## Lasso and Ridge Models\n",
    "### Training and validation sets\n",
    "We'll split the dataset into separate male and female datasets, each with respective training and validation sets. We also drop columns that are no longer useful."
   ]
  },
  {
   "cell_type": "code",
   "execution_count": 3271,
   "metadata": {
    "collapsed": false
   },
   "outputs": [],
   "source": [
    "train_male = train[train['Sex'] == 'male']\n",
    "train_female = train[train['Sex'] == 'female']\n",
    "\n",
    "test_male = test[test['Sex'] == 'male']\n",
    "test_female = test[test['Sex'] == 'female']\n",
    "\n",
    "train_male = train_male.drop(['Sex', 'Mother', 'Miss', 'Mrs', 'Ms'], axis = 1)\n",
    "train_female = train_female.drop(['Sex', 'Master', 'Mr'], axis = 1)\n",
    "\n",
    "test_male = test_male.drop(['Sex', 'Mother', 'Miss', 'Mrs', 'Ms'], axis = 1)\n",
    "test_female = test_female.drop(['Sex', 'Master', 'Mr'], axis = 1)\n",
    "\n",
    "# Create training and validation sets.\n",
    "cv_train_male, cv_valid_male = cross_validation.train_test_split(train_male, test_size=0.25, random_state=0)\n",
    "cv_train_female, cv_valid_female = cross_validation.train_test_split(train_female, test_size=0.25, random_state=0)"
   ]
  },
  {
   "cell_type": "markdown",
   "metadata": {},
   "source": [
    "### Model training and prediction\n",
    "#### Male Dataset"
   ]
  },
  {
   "cell_type": "code",
   "execution_count": 3272,
   "metadata": {
    "collapsed": false
   },
   "outputs": [
    {
     "name": "stdout",
     "output_type": "stream",
     "text": [
      "Ridge Accuracy on training: 0.856\n",
      "Lasso Accuracy on training: 0.859\n",
      "Ridge Accuracy on validation: 0.828\n",
      "Lasso Accuracy on validation: 0.821\n"
     ]
    }
   ],
   "source": [
    "# Split into X and y, per sklearn convention\n",
    "y_m = cv_train_male['Survived']\n",
    "X_m = cv_train_male.drop('Survived', axis=1)\n",
    "\n",
    "# Use LogisticRegressionCV to get ridge (L2), 10 fold\n",
    "clf_m_ridge = LogisticRegressionCV(Cs=500, cv=10, penalty='l2', random_state=0)\n",
    "clf_m_ridge.fit(X_m, y_m)\n",
    "print(\"Ridge Accuracy on training: %.3f\" % clf_m_ridge.score(X_m, y_m))\n",
    "\n",
    "# Use LogisticRegressionCV to get lasso (L1), 10 fold\n",
    "clf_m_lasso = LogisticRegressionCV(Cs=500, cv=10, penalty='l1', solver='liblinear', random_state=0)\n",
    "clf_m_lasso.fit(X_m, y_m)\n",
    "print(\"Lasso Accuracy on training: %.3f\" % clf_m_lasso.score(X_m, y_m))\n",
    "\n",
    "y_m_valid = cv_valid_male['Survived']\n",
    "X_m_valid = cv_valid_male.drop('Survived', axis = 1)\n",
    "print(\"Ridge Accuracy on validation: %.3f\" % clf_m_ridge.score(X_m_valid, y_m_valid))\n",
    "print(\"Lasso Accuracy on validation: %.3f\" % clf_m_lasso.score(X_m_valid, y_m_valid))\n",
    "    "
   ]
  },
  {
   "cell_type": "code",
   "execution_count": 3273,
   "metadata": {
    "collapsed": false
   },
   "outputs": [
    {
     "data": {
      "text/html": [
       "<div>\n",
       "<table border=\"1\" class=\"dataframe\">\n",
       "  <thead>\n",
       "    <tr style=\"text-align: right;\">\n",
       "      <th></th>\n",
       "      <th>feature</th>\n",
       "      <th>coef</th>\n",
       "    </tr>\n",
       "  </thead>\n",
       "  <tbody>\n",
       "    <tr>\n",
       "      <th>8</th>\n",
       "      <td>FamilySurvived</td>\n",
       "      <td>1.156</td>\n",
       "    </tr>\n",
       "    <tr>\n",
       "      <th>13</th>\n",
       "      <td>Master</td>\n",
       "      <td>0.516</td>\n",
       "    </tr>\n",
       "    <tr>\n",
       "      <th>14</th>\n",
       "      <td>Mr</td>\n",
       "      <td>-0.502</td>\n",
       "    </tr>\n",
       "    <tr>\n",
       "      <th>9</th>\n",
       "      <td>AgeClass</td>\n",
       "      <td>-0.404</td>\n",
       "    </tr>\n",
       "    <tr>\n",
       "      <th>4</th>\n",
       "      <td>Pclass</td>\n",
       "      <td>-0.403</td>\n",
       "    </tr>\n",
       "    <tr>\n",
       "      <th>5</th>\n",
       "      <td>SibSp</td>\n",
       "      <td>-0.392</td>\n",
       "    </tr>\n",
       "    <tr>\n",
       "      <th>15</th>\n",
       "      <td>A</td>\n",
       "      <td>0.380</td>\n",
       "    </tr>\n",
       "    <tr>\n",
       "      <th>19</th>\n",
       "      <td>E</td>\n",
       "      <td>0.348</td>\n",
       "    </tr>\n",
       "    <tr>\n",
       "      <th>6</th>\n",
       "      <td>FamilySize</td>\n",
       "      <td>0.343</td>\n",
       "    </tr>\n",
       "    <tr>\n",
       "      <th>20</th>\n",
       "      <td>F</td>\n",
       "      <td>-0.342</td>\n",
       "    </tr>\n",
       "  </tbody>\n",
       "</table>\n",
       "</div>"
      ],
      "text/plain": [
       "           feature   coef\n",
       "8   FamilySurvived  1.156\n",
       "13          Master  0.516\n",
       "14              Mr -0.502\n",
       "9         AgeClass -0.404\n",
       "4           Pclass -0.403\n",
       "5            SibSp -0.392\n",
       "15               A  0.380\n",
       "19               E  0.348\n",
       "6       FamilySize  0.343\n",
       "20               F -0.342"
      ]
     },
     "execution_count": 3273,
     "metadata": {},
     "output_type": "execute_result"
    }
   ],
   "source": [
    "def create_coef_table(coefs, features):\n",
    "    df = pd.DataFrame({'coef': coefs, 'feature': features})\n",
    "    df = df[['feature', 'coef']]\n",
    "    df = df.reindex(df.coef.abs().sort_values(ascending=False).index)\n",
    "    return(df)\n",
    "\n",
    "create_coef_table(clf_m_ridge.coef_[0], list(X_m)).head(10)"
   ]
  },
  {
   "cell_type": "code",
   "execution_count": 3274,
   "metadata": {
    "collapsed": false
   },
   "outputs": [
    {
     "name": "stdout",
     "output_type": "stream",
     "text": [
      "Master\n",
      "[[18  0]\n",
      " [ 1 14]]\n",
      "Mr\n",
      "[[337   2]\n",
      " [ 59   1]]\n"
     ]
    }
   ],
   "source": [
    "# Helper function to print the confusion matrices per title.\n",
    "def print_confusion_matrices(X, y, clf, titles):\n",
    "    for title in titles:\n",
    "        indexes = X.loc[X[title] == 1].index\n",
    "        y_pred = clf.predict(X.loc[indexes]).astype(int)\n",
    "        print(title)\n",
    "        print(confusion_matrix(y.loc[indexes], y_pred))\n",
    "    return \n",
    "\n",
    "# Training Set\n",
    "print_confusion_matrices(X_m, y_m, clf_m_ridge, ['Master', 'Mr'])"
   ]
  },
  {
   "cell_type": "code",
   "execution_count": 3275,
   "metadata": {
    "collapsed": false
   },
   "outputs": [
    {
     "name": "stdout",
     "output_type": "stream",
     "text": [
      "Master\n",
      "[[1 0]\n",
      " [0 6]]\n",
      "Mr\n",
      "[[110   0]\n",
      " [ 25   3]]\n"
     ]
    }
   ],
   "source": [
    "# Validation Set\n",
    "print_confusion_matrices(X_m_valid, y_m_valid, clf_m_ridge, ['Master', 'Mr'])"
   ]
  },
  {
   "cell_type": "code",
   "execution_count": 3276,
   "metadata": {
    "collapsed": false
   },
   "outputs": [
    {
     "name": "stdout",
     "output_type": "stream",
     "text": [
      "Ridge Accuracy on training: 0.902\n",
      "Lasso Accuracy on training: 0.898\n",
      "Ridge Accuracy on validation: 0.949\n",
      "Lasso Accuracy on validation: 0.937\n"
     ]
    }
   ],
   "source": [
    "#### Female Dataset\n",
    "# Split into X and y, per sklearn convention\n",
    "y_f = cv_train_female['Survived']\n",
    "X_f = cv_train_female.drop('Survived', axis=1)\n",
    "\n",
    "# Use LogisticRegressionCV to get ridge (L2), 10 fold\n",
    "clf_f_ridge = LogisticRegressionCV(Cs=500, cv=10, penalty='l2', random_state=0)\n",
    "clf_f_ridge.fit(X_f, y_f)\n",
    "print(\"Ridge Accuracy on training: %.3f\" % clf_f_ridge.score(X_f, y_f))\n",
    "\n",
    "# Use LogisticRegressionCV to get lasso (L1), 10 fold\n",
    "clf_f_lasso = LogisticRegressionCV(Cs=500, cv=10, penalty='l1', solver='liblinear', random_state=0)\n",
    "clf_f_lasso.fit(X_f, y_f)\n",
    "print(\"Lasso Accuracy on training: %.3f\" % clf_f_lasso.score(X_f, y_f))\n",
    "\n",
    "y_f_valid = cv_valid_female['Survived']\n",
    "X_f_valid = cv_valid_female.drop('Survived', axis = 1)\n",
    "print(\"Ridge Accuracy on validation: %.3f\" % clf_f_ridge.score(X_f_valid, y_f_valid))\n",
    "print(\"Lasso Accuracy on validation: %.3f\" % clf_f_lasso.score(X_f_valid, y_f_valid))\n"
   ]
  },
  {
   "cell_type": "code",
   "execution_count": 3277,
   "metadata": {
    "collapsed": false
   },
   "outputs": [
    {
     "data": {
      "text/html": [
       "<div>\n",
       "<table border=\"1\" class=\"dataframe\">\n",
       "  <thead>\n",
       "    <tr style=\"text-align: right;\">\n",
       "      <th></th>\n",
       "      <th>feature</th>\n",
       "      <th>coef</th>\n",
       "    </tr>\n",
       "  </thead>\n",
       "  <tbody>\n",
       "    <tr>\n",
       "      <th>9</th>\n",
       "      <td>FamilySurvived</td>\n",
       "      <td>5.055</td>\n",
       "    </tr>\n",
       "    <tr>\n",
       "      <th>8</th>\n",
       "      <td>Single</td>\n",
       "      <td>2.361</td>\n",
       "    </tr>\n",
       "    <tr>\n",
       "      <th>19</th>\n",
       "      <td>C</td>\n",
       "      <td>-2.005</td>\n",
       "    </tr>\n",
       "    <tr>\n",
       "      <th>4</th>\n",
       "      <td>Pclass</td>\n",
       "      <td>-1.520</td>\n",
       "    </tr>\n",
       "    <tr>\n",
       "      <th>6</th>\n",
       "      <td>FamilySize</td>\n",
       "      <td>-0.809</td>\n",
       "    </tr>\n",
       "    <tr>\n",
       "      <th>18</th>\n",
       "      <td>B</td>\n",
       "      <td>0.678</td>\n",
       "    </tr>\n",
       "    <tr>\n",
       "      <th>13</th>\n",
       "      <td>S</td>\n",
       "      <td>-0.589</td>\n",
       "    </tr>\n",
       "    <tr>\n",
       "      <th>20</th>\n",
       "      <td>D</td>\n",
       "      <td>0.546</td>\n",
       "    </tr>\n",
       "    <tr>\n",
       "      <th>2</th>\n",
       "      <td>Parch</td>\n",
       "      <td>-0.523</td>\n",
       "    </tr>\n",
       "    <tr>\n",
       "      <th>21</th>\n",
       "      <td>E</td>\n",
       "      <td>0.471</td>\n",
       "    </tr>\n",
       "  </tbody>\n",
       "</table>\n",
       "</div>"
      ],
      "text/plain": [
       "           feature   coef\n",
       "9   FamilySurvived  5.055\n",
       "8           Single  2.361\n",
       "19               C -2.005\n",
       "4           Pclass -1.520\n",
       "6       FamilySize -0.809\n",
       "18               B  0.678\n",
       "13               S -0.589\n",
       "20               D  0.546\n",
       "2            Parch -0.523\n",
       "21               E  0.471"
      ]
     },
     "execution_count": 3277,
     "metadata": {},
     "output_type": "execute_result"
    }
   ],
   "source": [
    "create_coef_table(clf_f_ridge.coef_[0], list(X_f)).head(10)"
   ]
  },
  {
   "cell_type": "code",
   "execution_count": 3278,
   "metadata": {
    "collapsed": false
   },
   "outputs": [
    {
     "data": {
      "text/html": [
       "<div>\n",
       "<table border=\"1\" class=\"dataframe\">\n",
       "  <thead>\n",
       "    <tr style=\"text-align: right;\">\n",
       "      <th></th>\n",
       "      <th>feature</th>\n",
       "      <th>coef</th>\n",
       "    </tr>\n",
       "  </thead>\n",
       "  <tbody>\n",
       "    <tr>\n",
       "      <th>9</th>\n",
       "      <td>FamilySurvived</td>\n",
       "      <td>3.968</td>\n",
       "    </tr>\n",
       "    <tr>\n",
       "      <th>8</th>\n",
       "      <td>Single</td>\n",
       "      <td>1.896</td>\n",
       "    </tr>\n",
       "    <tr>\n",
       "      <th>4</th>\n",
       "      <td>Pclass</td>\n",
       "      <td>-0.595</td>\n",
       "    </tr>\n",
       "    <tr>\n",
       "      <th>2</th>\n",
       "      <td>Parch</td>\n",
       "      <td>-0.266</td>\n",
       "    </tr>\n",
       "    <tr>\n",
       "      <th>5</th>\n",
       "      <td>SibSp</td>\n",
       "      <td>-0.172</td>\n",
       "    </tr>\n",
       "    <tr>\n",
       "      <th>0</th>\n",
       "      <td>Age</td>\n",
       "      <td>0.013</td>\n",
       "    </tr>\n",
       "    <tr>\n",
       "      <th>1</th>\n",
       "      <td>Fare</td>\n",
       "      <td>0.004</td>\n",
       "    </tr>\n",
       "    <tr>\n",
       "      <th>3</th>\n",
       "      <td>PassengerId</td>\n",
       "      <td>0.000</td>\n",
       "    </tr>\n",
       "    <tr>\n",
       "      <th>11</th>\n",
       "      <td>C</td>\n",
       "      <td>0.000</td>\n",
       "    </tr>\n",
       "    <tr>\n",
       "      <th>6</th>\n",
       "      <td>FamilySize</td>\n",
       "      <td>0.000</td>\n",
       "    </tr>\n",
       "  </tbody>\n",
       "</table>\n",
       "</div>"
      ],
      "text/plain": [
       "           feature   coef\n",
       "9   FamilySurvived  3.968\n",
       "8           Single  1.896\n",
       "4           Pclass -0.595\n",
       "2            Parch -0.266\n",
       "5            SibSp -0.172\n",
       "0              Age  0.013\n",
       "1             Fare  0.004\n",
       "3      PassengerId  0.000\n",
       "11               C  0.000\n",
       "6       FamilySize  0.000"
      ]
     },
     "execution_count": 3278,
     "metadata": {},
     "output_type": "execute_result"
    }
   ],
   "source": [
    "create_coef_table(clf_f_lasso.coef_[0], list(X_f)).head(10)"
   ]
  },
  {
   "cell_type": "code",
   "execution_count": 3279,
   "metadata": {
    "collapsed": false
   },
   "outputs": [
    {
     "name": "stdout",
     "output_type": "stream",
     "text": [
      "Miss\n",
      "[[10  1]\n",
      " [ 0 10]]\n",
      "Mrs\n",
      "[[21  3]\n",
      " [ 1 75]]\n",
      "Ms\n",
      "[[18 13]\n",
      " [ 5 78]]\n"
     ]
    }
   ],
   "source": [
    "# Training Set\n",
    "print_confusion_matrices(X_f, y_f, clf_f_ridge, ['Miss', 'Mrs', 'Ms'])"
   ]
  },
  {
   "cell_type": "code",
   "execution_count": 3280,
   "metadata": {
    "collapsed": false
   },
   "outputs": [
    {
     "name": "stdout",
     "output_type": "stream",
     "text": [
      "Miss\n",
      "[[ 3  1]\n",
      " [ 0 13]]\n",
      "Mrs\n",
      "[[ 2  0]\n",
      " [ 0 25]]\n",
      "Ms\n",
      "[[ 6  3]\n",
      " [ 0 26]]\n"
     ]
    }
   ],
   "source": [
    "# Validation Set\n",
    "print_confusion_matrices(X_f_valid, y_f_valid, clf_f_ridge, ['Miss', 'Mrs', 'Ms'])"
   ]
  },
  {
   "cell_type": "code",
   "execution_count": 3281,
   "metadata": {
    "collapsed": false
   },
   "outputs": [
    {
     "name": "stdout",
     "output_type": "stream",
     "text": [
      "296\n",
      "122\n"
     ]
    }
   ],
   "source": [
    "# Predict for test set\n",
    "X_m_test = test_male.drop('Survived', axis=1)\n",
    "X_f_test = test_female.drop('Survived', axis=1)\n",
    "\n",
    "m_predict = clf_m_ridge.predict(X_m_test)\n",
    "f_predict = clf_f_lasso.predict(X_f_test)\n",
    "\n",
    "submission_m = pd.DataFrame({'PassengerId': X_m_test['PassengerId'], \n",
    "                            'Survived': m_predict.astype(int)})\n",
    "submission_f = pd.DataFrame({'PassengerId': X_f_test['PassengerId'], \n",
    "                            'Survived': f_predict.astype(int)})\n",
    "\n",
    "submission = submission_m.append(submission_f)\n",
    "\n",
    "print(sum(submission['Survived'] == 0))\n",
    "print(sum(submission['Survived'] == 1))\n",
    "\n",
    "submission = submission.reindex(submission.PassengerId.sort_values().index)\n",
    "\n",
    "submission.to_csv(\"submission_huey.csv\", index=False)"
   ]
  },
  {
   "cell_type": "markdown",
   "metadata": {},
   "source": [
    "### Debugging Notes\n",
    "Things that differ most from the R version, ordered from largest estimated effect to smallest:\n",
    "* Results from MICE to impute Age\n",
    "* DecisionTree to decide Missing FARE\n",
    "* Imputed two cabin letters correctly, i.e. believe the original author had a bug\n",
    "* Dropped FamilyName\n",
    "\n",
    "RidgeMale, RidgeFemale:\n",
    "0.77990\n",
    "\n",
    "RidgeMale, LassoFemale:\n",
    "0.78469\n",
    "\n",
    "#### Using features from R, dropped family_name:\n",
    "RidgeMale, RidgeFemale: \n",
    "0.77033\n",
    "\n",
    "#### Adding family_names using pd_dummies:\n",
    "RidgeMale, RidgeFemale:\n",
    "0.77033\n",
    "\n",
    "#### Changing Cs from default 10 to 100:\n",
    "RidgeMale, RidgeFemale: 301/107\n",
    "0.79426\n",
    "\n",
    "RidgeMale, LassoFemale:\n",
    "0.78947\n",
    "\n",
    "#### Changing Cs from 100 to 500:\n",
    "RidgeMale, RidgeFemale: 312/106\n",
    "0.7655\n",
    "\n",
    "RidgeMale, LassoFemale:\n",
    "0.78947\n",
    "\n",
    "#### our Using feature engineering:\n",
    "RidgeMale, RidgeFemale:\n",
    "0.78947\n",
    "\n",
    "RidgeMale, LassoFemale:\n",
    "0.78469\n",
    "\n",
    "#### Changing Cs from 100 to 500:\n",
    "RidgeMale, RidgeFemale:\n",
    "0.78469 -> 0.77990\n",
    "\n",
    "RidgeMale, LassoFemale:\n",
    "0.79904 -> 0.77033? (not sure what accounts for the difference)\n",
    "\n",
    "#### Changing Cs from 500 to 100:\n",
    "RM, RF:\n",
    "0.80383\n",
    "\n",
    "RM, LF:\n",
    "0.77512\n",
    "\n",
    "#### Set Random Seed for MICE\n",
    "RM, RF:\n",
    "0.76077\n",
    "\n",
    "RM, LF:\n",
    "0.78469\n",
    "\n",
    "#### Running again to ensure there's no randomness\n",
    "RM, RF: 318/10\n",
    "0.77990\n",
    "\n",
    "RM, LF: 296/122, 298/120, 295/123, 293/125, 298/120, 295/123, 300/118, 300/118, 300/118\n",
    "0.78947\n",
    "\n",
    "#### Changing Cs from 100 to 500:\n",
    "RM, RF: 314/104\n",
    "0.78469\n",
    "\n",
    "RM, LF: 296/122\n",
    "0.79904"
   ]
  },
  {
   "cell_type": "code",
   "execution_count": null,
   "metadata": {
    "collapsed": true
   },
   "outputs": [],
   "source": []
  }
 ],
 "metadata": {
  "anaconda-cloud": {},
  "kernelspec": {
   "display_name": "Python [py35]",
   "language": "python",
   "name": "Python [py35]"
  },
  "language_info": {
   "codemirror_mode": {
    "name": "ipython",
    "version": 3
   },
   "file_extension": ".py",
   "mimetype": "text/x-python",
   "name": "python",
   "nbconvert_exporter": "python",
   "pygments_lexer": "ipython3",
   "version": "3.5.2"
  }
 },
 "nbformat": 4,
 "nbformat_minor": 0
}
