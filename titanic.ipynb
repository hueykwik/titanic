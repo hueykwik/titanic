{
 "cells": [
  {
   "cell_type": "code",
   "execution_count": 1,
   "metadata": {
    "collapsed": false
   },
   "outputs": [
    {
     "ename": "ImportError",
     "evalue": "No module named pandas",
     "output_type": "error",
     "traceback": [
      "\u001b[0;31m---------------------------------------------------------------------------\u001b[0m",
      "\u001b[0;31mImportError\u001b[0m                               Traceback (most recent call last)",
      "\u001b[0;32m<ipython-input-1-fcd999984ba1>\u001b[0m in \u001b[0;36m<module>\u001b[0;34m()\u001b[0m\n\u001b[1;32m      1\u001b[0m \u001b[0;32mimport\u001b[0m \u001b[0mre\u001b[0m\u001b[0;34m\u001b[0m\u001b[0m\n\u001b[0;32m----> 2\u001b[0;31m \u001b[0;32mimport\u001b[0m \u001b[0mpandas\u001b[0m \u001b[0;32mas\u001b[0m \u001b[0mpd\u001b[0m\u001b[0;34m\u001b[0m\u001b[0m\n\u001b[0m\u001b[1;32m      3\u001b[0m \u001b[0;32mimport\u001b[0m \u001b[0mnumpy\u001b[0m \u001b[0;32mas\u001b[0m \u001b[0mnp\u001b[0m\u001b[0;34m\u001b[0m\u001b[0m\n\u001b[1;32m      4\u001b[0m \u001b[0;32mimport\u001b[0m \u001b[0mcsv\u001b[0m \u001b[0;32mas\u001b[0m \u001b[0mcsv\u001b[0m\u001b[0;34m\u001b[0m\u001b[0m\n\u001b[1;32m      5\u001b[0m \u001b[0;32mfrom\u001b[0m \u001b[0msklearn\u001b[0m\u001b[0;34m.\u001b[0m\u001b[0mensemble\u001b[0m \u001b[0;32mimport\u001b[0m \u001b[0mRandomForestClassifier\u001b[0m\u001b[0;34m\u001b[0m\u001b[0m\n",
      "\u001b[0;31mImportError\u001b[0m: No module named pandas"
     ]
    }
   ],
   "source": [
    "import pandas as pd\n",
    "import numpy as np\n",
    "import csv as csv\n",
    "from sklearn.ensemble import RandomForestClassifier\n",
    "from sklearn.linear_model import LogisticRegression\n"
   ]
  },
  {
   "cell_type": "code",
   "execution_count": 85,
   "metadata": {
    "collapsed": false
   },
   "outputs": [
    {
     "name": "stdout",
     "output_type": "stream",
     "text": [
      "314\n",
      "28.0\n",
      "28.0\n",
      "152\n",
      "27.0\n",
      "27.0\n"
     ]
    }
   ],
   "source": [
    "def clean_up(df, ports_dict):\n",
    "    # Clean up the data.\n",
    "    # Columns with nulls: Age, Embarked\n",
    "    # Columns that need to be converted to ints: Sex, Embarked\n",
    "    # Columns that should be dropped: Name, PassengerId, Cabin, Ticket\n",
    "\n",
    "    # Make NA ages the median of all ages\n",
    "    # Possible improvement: Use median age by gender\n",
    "    median_age = df['Age'].dropna().median()\n",
    "    df.loc[df['Age'].isnull(), 'Age'] = median_age\n",
    "    #print(median_age)\n",
    "    \n",
    "    male_ages = df.loc[df.Sex == 'male', 'Age']\n",
    "    female_ages = df.loc[df.Sex == 'female', 'Age']\n",
    "    \n",
    "    print(len(female_ages))\n",
    "    print(male_ages.dropna().median())\n",
    "    print(female_ages.dropna().median())\n",
    "    \n",
    "    # Make NA Embarked be the mode.\n",
    "    # Possible improvement: Randomly sample using the same distribution of ports\n",
    "    df.loc[df.Embarked.isnull(), 'Embarked'] = df.Embarked.dropna().mode().values\n",
    "    \n",
    "    df.Embarked = df.Embarked.map(lambda x: ports_dict[x]).astype(int)\n",
    "    #print(ports_dict)\n",
    "\n",
    "    # Convert Sex to integer\n",
    "    df['Sex'] = df['Sex'].map({'female': 0, 'male': 1}).astype(int)\n",
    "\n",
    "    # Remove the columns that should be dropped\n",
    "    df = df.drop(['Name', 'PassengerId', 'Cabin', 'Ticket'], axis=1) \n",
    "    \n",
    "    # Missing Fares should be median of their respective classes\n",
    "    median_fare = np.zeros(3)\n",
    "    for f in range(0,3):\n",
    "        median_fare[f] = df[df.Pclass == f+1]['Fare'].dropna().median()\n",
    "    for f in range(0,3):\n",
    "        df.loc[df.Fare.isnull() & df.Pclass == f+1, 'Fare'] = median_fare[f]\n",
    "    \n",
    "    return(df)\n",
    "\n",
    "# Load the training data.\n",
    "train_df = pd.read_csv('train-original.csv', header=0)\n",
    "\n",
    "# Convert Embarked to int\n",
    "# Breaking this down:\n",
    "# np.unique returns unique values in the input \n",
    "# enumerate gives you an object that can give you tuples of index and value\n",
    "ports = enumerate(np.unique(train_df['Embarked']))\n",
    "ports_dict = { name: i for i, name in ports }\n",
    "\n",
    "train_df = clean_up(train_df, ports_dict)\n",
    "\n",
    "# Test Data\n",
    "test_df = pd.read_csv('test.csv', header=0)  \n",
    "ids = test_df['PassengerId'].values\n",
    "test_df = clean_up(test_df, ports_dict)"
   ]
  },
  {
   "cell_type": "markdown",
   "metadata": {},
   "source": [
    "# Random Forest\n",
    "Best score: 0.72"
   ]
  },
  {
   "cell_type": "code",
   "execution_count": 80,
   "metadata": {
    "collapsed": false
   },
   "outputs": [
    {
     "name": "stdout",
     "output_type": "stream",
     "text": [
      "97.9797979798\n",
      "[ 0.08196316  0.26842242  0.25356262  0.05037553  0.03892133  0.27223633\n",
      "  0.03451861]\n",
      "<class 'pandas.core.frame.DataFrame'>\n",
      "RangeIndex: 891 entries, 0 to 890\n",
      "Data columns (total 8 columns):\n",
      "Survived    891 non-null int64\n",
      "Pclass      891 non-null int64\n",
      "Sex         891 non-null int64\n",
      "Age         891 non-null float64\n",
      "SibSp       891 non-null int64\n",
      "Parch       891 non-null int64\n",
      "Fare        891 non-null float64\n",
      "Embarked    891 non-null int64\n",
      "dtypes: float64(2), int64(6)\n",
      "memory usage: 55.8 KB\n",
      "None\n"
     ]
    }
   ],
   "source": [
    "# Training\n",
    "# sklearn needs numpy arrays, not DataFrames, so convert back to a numpy array\n",
    "train_data = train_df.values\n",
    "test_data = test_df.values\n",
    "\n",
    "#print(train_df.info())\n",
    "#print(test_df.info())\n",
    "\n",
    "forest = RandomForestClassifier(n_estimators=100)\n",
    "forest = forest.fit(train_data[0::,1::], train_data[0::,0])\n",
    "\n",
    "# Calculate training error\n",
    "score = forest.score(train_data[0::,1::], train_data[0::,0])\n",
    "print(score * 100)\n",
    "\n",
    "print(forest.feature_importances_)\n",
    "print(train_df.info())\n",
    "\n",
    "output = forest.predict(test_data[0::,1::]).astype(int)\n",
    "\n",
    "predictions_file = open(\"myfirstforest.csv\", \"wb\")\n",
    "open_file_object = csv.writer(predictions_file)\n",
    "open_file_object.writerow([\"PassengerId\",\"Survived\"])\n",
    "open_file_object.writerows(zip(ids, output))\n",
    "predictions_file.close()"
   ]
  },
  {
   "cell_type": "markdown",
   "metadata": {},
   "source": [
    "# Logistic Regression\n",
    "Best score: 0.75598"
   ]
  },
  {
   "cell_type": "code",
   "execution_count": 78,
   "metadata": {
    "collapsed": false
   },
   "outputs": [
    {
     "name": "stdout",
     "output_type": "stream",
     "text": [
      "80.0224466891\n"
     ]
    }
   ],
   "source": [
    "logistic = LogisticRegression()\n",
    "logistic = logistic.fit(train_data[0::,1::], train_data[0::,0])\n",
    "\n",
    "# Calculate training error\n",
    "score = logistic.score(train_data[0::,1::], train_data[0::,0])\n",
    "print(score * 100)\n",
    "\n",
    "output = logistic.predict(test_data[0::,1::]).astype(int)\n",
    "\n",
    "predictions_file = open(\"logistic.csv\", \"wb\")\n",
    "open_file_object = csv.writer(predictions_file)\n",
    "open_file_object.writerow([\"PassengerId\",\"Survived\"])\n",
    "open_file_object.writerows(zip(ids, output))\n",
    "predictions_file.close()\n",
    "\n"
   ]
  },
  {
   "cell_type": "code",
   "execution_count": null,
   "metadata": {
    "collapsed": true
   },
   "outputs": [],
   "source": []
  }
 ],
 "metadata": {
  "anaconda-cloud": {},
  "kernelspec": {
   "display_name": "Python [py27]",
   "language": "python",
   "name": "Python [py27]"
  },
  "language_info": {
   "codemirror_mode": {
    "name": "ipython",
    "version": 2
   },
   "file_extension": ".py",
   "mimetype": "text/x-python",
   "name": "python",
   "nbconvert_exporter": "python",
   "pygments_lexer": "ipython2",
   "version": "2.7.12"
  }
 },
 "nbformat": 4,
 "nbformat_minor": 0
}
